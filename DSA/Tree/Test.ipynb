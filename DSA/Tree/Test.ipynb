{
 "cells": [
  {
   "cell_type": "code",
   "execution_count": 7,
   "source": [
    "class node:\r\n",
    "    def __init__(self,key):\r\n",
    "        self.left=None\r\n",
    "        self.right=None\r\n",
    "        self.val=key\r\n",
    "root=node(10)\r\n",
    "root.left=node(8)\r\n",
    "root.right=node(2) \r\n",
    "root.left.left=node(3)\r\n",
    "root.left.right=node(5)\r\n",
    "root.right.right=node(6)"
   ],
   "outputs": [],
   "metadata": {}
  },
  {
   "cell_type": "code",
   "execution_count": null,
   "source": [
    "prev=None\r\n",
    "def convertDLL(root):\r\n",
    "    global prev\r\n",
    "    if root==None:\r\n",
    "        return root\r\n",
    "    head=convertDLL(root.left)\r\n",
    "    if (prev==None):\r\n",
    "        head=root\r\n",
    "    else:\r\n",
    "        root.left=prev\r\n",
    "        prev.right=root\r\n",
    "\r\n",
    "    prev=root\r\n",
    "    convertDLL(root.right)\r\n",
    "    return head\r\n",
    "\r\n",
    "\r\n",
    "convertDLL(root)\r\n"
   ],
   "outputs": [],
   "metadata": {}
  }
 ],
 "metadata": {
  "orig_nbformat": 4,
  "language_info": {
   "name": "python",
   "version": "3.9.5",
   "mimetype": "text/x-python",
   "codemirror_mode": {
    "name": "ipython",
    "version": 3
   },
   "pygments_lexer": "ipython3",
   "nbconvert_exporter": "python",
   "file_extension": ".py"
  },
  "kernelspec": {
   "name": "python3",
   "display_name": "Python 3.9.5 64-bit"
  },
  "interpreter": {
   "hash": "9552b8190f63102abce783a036fdab59c8fbd44b305ff071c472b263e7af8b3a"
  }
 },
 "nbformat": 4,
 "nbformat_minor": 2
}