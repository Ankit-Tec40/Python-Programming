{
 "cells": [
  {
   "cell_type": "markdown",
   "source": [
    "             1\r\n",
    "        2         3\r\n",
    "    4       5"
   ],
   "metadata": {}
  },
  {
   "cell_type": "code",
   "execution_count": 2,
   "source": [
    "class node:\r\n",
    "    def __init__(self,key):\r\n",
    "        self.left=None\r\n",
    "        self.right=None\r\n",
    "        self.val=key\r\n",
    "root=node(1)\r\n",
    "root.left=node(2)\r\n",
    "root.right=node(3) \r\n",
    "root.left.left=node(4)\r\n",
    "root.left.right=node(5)"
   ],
   "outputs": [],
   "metadata": {}
  },
  {
   "cell_type": "markdown",
   "source": [
    "## Find Maximum Value In Binary Tree"
   ],
   "metadata": {}
  },
  {
   "cell_type": "code",
   "execution_count": 2,
   "source": [
    "def maxval(root):\r\n",
    "    if(root==None):\r\n",
    "        return float(\"-inf\")\r\n",
    "    else:\r\n",
    "        return(max(root.val,max(maxval(root.left),maxval(root.right))))\r\n",
    "\r\n",
    "maxval(root)\r\n"
   ],
   "outputs": [
    {
     "output_type": "execute_result",
     "data": {
      "text/plain": [
       "5"
      ]
     },
     "metadata": {},
     "execution_count": 2
    }
   ],
   "metadata": {}
  },
  {
   "cell_type": "markdown",
   "source": [
    "## Print Left View Of Binary Tree  \r\n",
    "-->1,2,4  \r\n"
   ],
   "metadata": {}
  },
  {
   "cell_type": "markdown",
   "source": [
    "### sol 1  recursive method  \r\n",
    "Tc-->O(n)  \r\n",
    "Sc-->theta(h)"
   ],
   "metadata": {}
  },
  {
   "cell_type": "code",
   "execution_count": 10,
   "source": [
    "#method 1  recursive\r\n",
    "maxlevel=0\r\n",
    "def leftmost(root,level=1):\r\n",
    "    global maxlevel\r\n",
    "    if (root==None):\r\n",
    "        return\r\n",
    "    if(maxlevel<level):\r\n",
    "        print(root.val,end=\" \")\r\n",
    "        maxlevel=level\r\n",
    "    leftmost(root.left,level+1)\r\n",
    "    leftmost(root.right,level+1)\r\n",
    "\r\n",
    "leftmost(root)"
   ],
   "outputs": [
    {
     "output_type": "stream",
     "name": "stdout",
     "text": [
      "1 2 4 "
     ]
    }
   ],
   "metadata": {}
  },
  {
   "cell_type": "markdown",
   "source": [
    "### sol2 iterative mthod\r\n",
    "tc-->  theta(n)\r\n",
    "sc-->theta(width) / or / O(n)"
   ],
   "metadata": {}
  },
  {
   "cell_type": "code",
   "execution_count": 13,
   "source": [
    "def leftmost(root):\r\n",
    "    if root==None:\r\n",
    "        return\r\n",
    "    queue=[]\r\n",
    "    queue.append(root)\r\n",
    "    while(len(queue)!=0):\r\n",
    "        count=len(queue)\r\n",
    "        for i in range(count):\r\n",
    "            curr=queue[0]\r\n",
    "            queue.pop(0)\r\n",
    "            if(i==0):\r\n",
    "                print(curr.val,end=\" \")\r\n",
    "            if(curr.left !=None):\r\n",
    "                queue.append(curr.left)\r\n",
    "            if(curr.right !=None):\r\n",
    "                queue.append(curr.right)\r\n",
    "\r\n",
    "leftmost(root)"
   ],
   "outputs": [
    {
     "output_type": "stream",
     "name": "stdout",
     "text": [
      "1 2 4 "
     ]
    }
   ],
   "metadata": {}
  },
  {
   "cell_type": "markdown",
   "source": [
    "### Childreen sum property\r\n",
    "->sum of value of left child and right child is equal to root value\r\n",
    "\r\n",
    "tc=O(n)\r\n",
    "sc=O(h)"
   ],
   "metadata": {}
  },
  {
   "cell_type": "code",
   "execution_count": 1,
   "source": [
    "class node:\r\n",
    "    def __init__(self,key):\r\n",
    "        self.left=None\r\n",
    "        self.right=None\r\n",
    "        self.val=key\r\n",
    "root=node(10)\r\n",
    "root.left=node(8)\r\n",
    "root.right=node(2) \r\n",
    "root.left.left=node(3)\r\n",
    "root.left.right=node(5)\r\n",
    "root.right.right=node(6)"
   ],
   "outputs": [],
   "metadata": {}
  },
  {
   "cell_type": "code",
   "execution_count": 15,
   "source": [
    "def childrensum(root):\r\n",
    "    if root==None:\r\n",
    "        return True\r\n",
    "    if root.right==None and root.left==None:\r\n",
    "        return True\r\n",
    "    sum=0\r\n",
    "    if(root.left !=None):\r\n",
    "        sum+=root.left.val\r\n",
    "    if(root.right!=None):\r\n",
    "        sum+=root.right.val\r\n",
    "    return(root.val==sum and childrensum(root.left) and childrensum(root.right))\r\n",
    "\r\n",
    "childrensum(root)"
   ],
   "outputs": [
    {
     "output_type": "execute_result",
     "data": {
      "text/plain": [
       "True"
      ]
     },
     "metadata": {},
     "execution_count": 15
    }
   ],
   "metadata": {}
  },
  {
   "cell_type": "markdown",
   "source": [
    "### check for  balanced binary tree\r\n",
    "-> diffence of height of left and right subtree should not greater than 1"
   ],
   "metadata": {}
  },
  {
   "cell_type": "code",
   "execution_count": 13,
   "source": [
    "#sol 1 -> O(n^2)\r\n",
    "\r\n",
    "def height(root):\r\n",
    "    if (root==None):\r\n",
    "        return 0\r\n",
    "    else:\r\n",
    "        return (max(height(root.left),height(root.right))+1)\r\n",
    "\r\n",
    "\r\n",
    "def isbalanced(root):\r\n",
    "    if root==None:\r\n",
    "        return True\r\n",
    "    lh=height(root.left)\r\n",
    "    rh=height(root.right)\r\n",
    "    return(abs(lh-rh)<=1 and isbalanced(root.left) and isbalanced(root.right))\r\n",
    "\r\n",
    "isbalanced(root)"
   ],
   "outputs": [
    {
     "output_type": "execute_result",
     "data": {
      "text/plain": [
       "True"
      ]
     },
     "metadata": {},
     "execution_count": 13
    }
   ],
   "metadata": {}
  },
  {
   "cell_type": "code",
   "execution_count": 2,
   "source": [
    "# sol2 ->O(n)\r\n",
    "def isbalanced(root):\r\n",
    "    if root==None:\r\n",
    "        return 0\r\n",
    "    lh=isbalanced(root.left)\r\n",
    "    if lh==-1:\r\n",
    "        return -1\r\n",
    "    rh=isbalanced(root.right)\r\n",
    "    if rh==-1:\r\n",
    "        return -1\r\n",
    "    if(abs(lh-rh>1)):\r\n",
    "        return -1\r\n",
    "    else:\r\n",
    "        return max(lh,rh)+1\r\n",
    "\r\n",
    "isbalanced(root)\r\n",
    "    "
   ],
   "outputs": [
    {
     "output_type": "execute_result",
     "data": {
      "text/plain": [
       "3"
      ]
     },
     "metadata": {},
     "execution_count": 2
    }
   ],
   "metadata": {}
  },
  {
   "cell_type": "markdown",
   "source": [
    "### maximun width of binary tree\r\n",
    "\r\n",
    "tc=Theta(n)\r\n",
    "sc=theta(max width) or O(n)"
   ],
   "metadata": {}
  },
  {
   "cell_type": "code",
   "execution_count": 2,
   "source": [
    "def maxwidth(root):\r\n",
    "    if root==None:\r\n",
    "        return 0\r\n",
    "    lst=[]\r\n",
    "    lst.append(root)\r\n",
    "    res=0\r\n",
    "    while(len(lst)!=0):\r\n",
    "        count=len(lst)\r\n",
    "        res=max(res,count)\r\n",
    "        for i in range(count):\r\n",
    "            curr=lst[0]\r\n",
    "            lst.pop(0)\r\n",
    "            if(curr.left!=None):\r\n",
    "                lst.append(curr.left)\r\n",
    "            if(curr.right!=None):\r\n",
    "                lst.append(curr.right)\r\n",
    "    return res\r\n",
    "\r\n",
    "maxwidth(root)\r\n"
   ],
   "outputs": [
    {
     "output_type": "execute_result",
     "data": {
      "text/plain": [
       "2"
      ]
     },
     "metadata": {},
     "execution_count": 2
    }
   ],
   "metadata": {}
  },
  {
   "cell_type": "markdown",
   "source": [
    "### convert binary to doubly linked list\r\n",
    "                10\r\n",
    "    5                       20\r\n",
    "                    30              35\r\n",
    "\r\n",
    "==> 5<->10<->30<->20<->35"
   ],
   "metadata": {}
  },
  {
   "cell_type": "code",
   "execution_count": null,
   "source": [
    "# prev=None\r\n",
    "# def convertDLL(root):\r\n",
    "#     global prev\r\n",
    "#     if root==None:\r\n",
    "#         return root\r\n",
    "#     head=convertDLL(root.left)\r\n",
    "#     if (prev==None):\r\n",
    "#         head=root\r\n",
    "#     else:\r\n",
    "#         root.left=prev\r\n",
    "#         prev.right=root\r\n",
    "\r\n",
    "#     prev=root\r\n",
    "#     convertDLL(root.right)\r\n",
    "#     return head\r\n",
    "\r\n",
    "\r\n",
    "# convertDLL(root)\r\n",
    "\r\n",
    "###Doubt Not Done"
   ],
   "outputs": [],
   "metadata": {}
  },
  {
   "cell_type": "markdown",
   "source": [
    "### cONSTRUCT BINERY TREE FROM INORDER AND PREORDER\r\n"
   ],
   "metadata": {}
  },
  {
   "cell_type": "code",
   "execution_count": 2,
   "source": [
    "inorder=[40,20,50,10,30,80,70,90]\r\n",
    "preorder=[10,20,40,50,30,70,80,90]"
   ],
   "outputs": [],
   "metadata": {}
  },
  {
   "cell_type": "code",
   "execution_count": null,
   "source": [
    "def construct():\r\n",
    "    "
   ],
   "outputs": [],
   "metadata": {}
  }
 ],
 "metadata": {
  "orig_nbformat": 4,
  "language_info": {
   "name": "python",
   "version": "3.9.5",
   "mimetype": "text/x-python",
   "codemirror_mode": {
    "name": "ipython",
    "version": 3
   },
   "pygments_lexer": "ipython3",
   "nbconvert_exporter": "python",
   "file_extension": ".py"
  },
  "kernelspec": {
   "name": "python3",
   "display_name": "Python 3.9.5 64-bit"
  },
  "interpreter": {
   "hash": "9552b8190f63102abce783a036fdab59c8fbd44b305ff071c472b263e7af8b3a"
  }
 },
 "nbformat": 4,
 "nbformat_minor": 2
}