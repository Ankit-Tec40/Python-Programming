{
 "cells": [
  {
   "cell_type": "code",
   "execution_count": 1,
   "source": [
    "class node:\r\n",
    "    def __init__(self,data):\r\n",
    "        self.val=data\r\n",
    "        self.right=None\r\n",
    "        self.left=None\r\n",
    "root=node(10)\r\n",
    "root.left=node(20)\r\n",
    "root.right=node(30)\r\n",
    "root.left.left=node(40)\r\n",
    "root.left.right=node(50)\r\n",
    "root.right.left=node(60)\r\n",
    "root.right.right=node(70)"
   ],
   "outputs": [],
   "metadata": {}
  },
  {
   "cell_type": "code",
   "execution_count": 2,
   "source": [
    "def inorder(root):\r\n",
    "    if root:\r\n",
    "        inorder(root.left)\r\n",
    "        print(root.val)\r\n",
    "        inorder(root.right)\r\n",
    "\r\n",
    "inorder(root)"
   ],
   "outputs": [
    {
     "output_type": "stream",
     "name": "stdout",
     "text": [
      "40\n",
      "20\n",
      "50\n",
      "10\n",
      "60\n",
      "30\n",
      "70\n"
     ]
    }
   ],
   "metadata": {}
  },
  {
   "cell_type": "markdown",
   "source": [
    "height of binery tree"
   ],
   "metadata": {}
  },
  {
   "cell_type": "code",
   "execution_count": 2,
   "source": [
    "def height(root):\r\n",
    "    if root==None:\r\n",
    "        return 0\r\n",
    "    else:\r\n",
    "        return max(height(root.left),height(root.right)+1)\r\n",
    "\r\n",
    "height(root)"
   ],
   "outputs": [
    {
     "output_type": "execute_result",
     "data": {
      "text/plain": [
       "3"
      ]
     },
     "metadata": {},
     "execution_count": 2
    }
   ],
   "metadata": {}
  },
  {
   "cell_type": "markdown",
   "source": [
    "Node at k distance"
   ],
   "metadata": {}
  },
  {
   "cell_type": "code",
   "execution_count": 3,
   "source": [
    "def atdis(root,k):\r\n",
    "    if root==None:\r\n",
    "        return\r\n",
    "    else:\r\n",
    "        if k==0:\r\n",
    "            print(root.val)\r\n",
    "        else:\r\n",
    "            atdis(root.left,k-1)\r\n",
    "            atdis(root.right,k-1)\r\n",
    "atdis(root,2)"
   ],
   "outputs": [
    {
     "output_type": "stream",
     "name": "stdout",
     "text": [
      "40\n",
      "50\n",
      "60\n",
      "70\n"
     ]
    }
   ],
   "metadata": {}
  },
  {
   "cell_type": "markdown",
   "source": [
    "size of binary tree"
   ],
   "metadata": {}
  },
  {
   "cell_type": "code",
   "execution_count": 4,
   "source": [
    "def size(root):\r\n",
    "    if root==None:\r\n",
    "        return 0\r\n",
    "    else:\r\n",
    "        return (1+size(root.left)+size(root.right))\r\n",
    "size(root)"
   ],
   "outputs": [
    {
     "output_type": "execute_result",
     "data": {
      "text/plain": [
       "7"
      ]
     },
     "metadata": {},
     "execution_count": 4
    }
   ],
   "metadata": {}
  },
  {
   "cell_type": "markdown",
   "source": [
    "left view"
   ],
   "metadata": {}
  },
  {
   "cell_type": "code",
   "execution_count": 10,
   "source": [
    "maxlevel=0\r\n",
    "def leftview(root,level):\r\n",
    "    global maxlevel\r\n",
    "    if root==None:\r\n",
    "        return\r\n",
    "    if  (maxlevel<level):\r\n",
    "        print(root.val,end=\" \")\r\n",
    "        maxlevel=level\r\n",
    "    leftview(root.left,level+1)\r\n",
    "    leftview(root.right,level+1)\r\n",
    "leftview(root,1)"
   ],
   "outputs": [
    {
     "output_type": "stream",
     "name": "stdout",
     "text": [
      "10 20 40 "
     ]
    }
   ],
   "metadata": {}
  }
 ],
 "metadata": {
  "orig_nbformat": 4,
  "language_info": {
   "name": "python",
   "version": "3.9.5",
   "mimetype": "text/x-python",
   "codemirror_mode": {
    "name": "ipython",
    "version": 3
   },
   "pygments_lexer": "ipython3",
   "nbconvert_exporter": "python",
   "file_extension": ".py"
  },
  "kernelspec": {
   "name": "python3",
   "display_name": "Python 3.9.5 64-bit"
  },
  "interpreter": {
   "hash": "9552b8190f63102abce783a036fdab59c8fbd44b305ff071c472b263e7af8b3a"
  }
 },
 "nbformat": 4,
 "nbformat_minor": 2
}