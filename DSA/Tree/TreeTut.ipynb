{
 "cells": [
  {
   "cell_type": "markdown",
   "source": [
    "Creating Tree"
   ],
   "metadata": {}
  },
  {
   "cell_type": "code",
   "execution_count": 2,
   "source": [
    "class node:\r\n",
    "    def __init__(self,key):\r\n",
    "        self.left=None\r\n",
    "        self.right=None\r\n",
    "        self.val=key\r\n",
    "root=node(1)\r\n",
    "root.left=node(2)\r\n",
    "root.right=node(3) \r\n",
    "root.left.left=node(4)"
   ],
   "outputs": [],
   "metadata": {}
  },
  {
   "cell_type": "markdown",
   "source": [
    "Tree Traversals"
   ],
   "metadata": {}
  },
  {
   "cell_type": "code",
   "execution_count": 3,
   "source": [
    "def inorder(root):\r\n",
    "    if root:\r\n",
    "        inorder(root.left)\r\n",
    "        print(root.val)\r\n",
    "        inorder(root.right)\r\n",
    "\r\n",
    "inorder(root)"
   ],
   "outputs": [
    {
     "output_type": "stream",
     "name": "stdout",
     "text": [
      "4\n",
      "2\n",
      "1\n",
      "3\n"
     ]
    }
   ],
   "metadata": {}
  },
  {
   "cell_type": "code",
   "execution_count": 4,
   "source": [
    "def preorder(root):\r\n",
    "    if root:\r\n",
    "        print(root.val)\r\n",
    "        preorder(root.left)\r\n",
    "        preorder(root.right)\r\n",
    "preorder(root)"
   ],
   "outputs": [
    {
     "output_type": "stream",
     "name": "stdout",
     "text": [
      "1\n",
      "2\n",
      "4\n",
      "3\n"
     ]
    }
   ],
   "metadata": {}
  },
  {
   "cell_type": "code",
   "execution_count": 5,
   "source": [
    "def postorder(root):\r\n",
    "    if root:\r\n",
    "        postorder(root.left)\r\n",
    "        postorder(root.right)\r\n",
    "        print(root.val)\r\n",
    "postorder(root)"
   ],
   "outputs": [
    {
     "output_type": "stream",
     "name": "stdout",
     "text": [
      "4\n",
      "2\n",
      "3\n",
      "1\n"
     ]
    }
   ],
   "metadata": {}
  },
  {
   "cell_type": "markdown",
   "source": [
    "Height of Binary Tree"
   ],
   "metadata": {}
  },
  {
   "cell_type": "code",
   "execution_count": 6,
   "source": [
    "def height(root):\r\n",
    "    if (root==None):\r\n",
    "        return 0\r\n",
    "    else:\r\n",
    "        return (max(height(root.left),height(root.right))+1)\r\n",
    "\r\n",
    "height(root)\r\n"
   ],
   "outputs": [
    {
     "output_type": "execute_result",
     "data": {
      "text/plain": [
       "3"
      ]
     },
     "metadata": {},
     "execution_count": 6
    }
   ],
   "metadata": {}
  },
  {
   "cell_type": "markdown",
   "source": [
    "Print  Node At K distance   \r\n",
    "mean print k+1^th Level"
   ],
   "metadata": {}
  },
  {
   "cell_type": "code",
   "execution_count": 19,
   "source": [
    "def printdis(root,k):\r\n",
    "    if (root==None):\r\n",
    "        return\r\n",
    "    if(k==0):\r\n",
    "        print(root.val)\r\n",
    "    else:\r\n",
    "        printdis(root.left,k-1)\r\n",
    "        printdis(root.right,k-1)\r\n",
    "\r\n",
    "printdis(root,2)\r\n",
    "\r\n"
   ],
   "outputs": [
    {
     "output_type": "stream",
     "name": "stdout",
     "text": [
      "4\n"
     ]
    }
   ],
   "metadata": {}
  },
  {
   "cell_type": "markdown",
   "source": [
    "Breadth First Traverseal  \r\n",
    "//Level Order Traversal"
   ],
   "metadata": {}
  },
  {
   "cell_type": "code",
   "execution_count": 18,
   "source": [
    "# sol 1 using Recursion\r\n",
    "def height(root):\r\n",
    "    if (root==None):\r\n",
    "        return 0\r\n",
    "    else:\r\n",
    "        return (max(height(root.left),height(root.right))+1)\r\n",
    "\r\n",
    "def printdis(root,k):\r\n",
    "    if (root==None):\r\n",
    "        return\r\n",
    "    if(k==0):\r\n",
    "        print(root.val)\r\n",
    "    else:\r\n",
    "        printdis(root.left,k-1)\r\n",
    "        printdis(root.right,k-1)\r\n",
    "\r\n",
    "h=height(root)\r\n",
    "for i in range(h):\r\n",
    "    printdis(root,i)\r\n"
   ],
   "outputs": [
    {
     "output_type": "stream",
     "name": "stdout",
     "text": [
      "1\n",
      "2\n",
      "3\n",
      "4\n"
     ]
    }
   ],
   "metadata": {}
  },
  {
   "cell_type": "code",
   "execution_count": 13,
   "source": [
    "# sol 2 using queue \r\n",
    "def LOT(root):\r\n",
    "    if (root==None):\r\n",
    "        return\r\n",
    "    queue=[]\r\n",
    "    queue.append(root)\r\n",
    "    while(len(queue)!=0):\r\n",
    "        curr=queue[0]\r\n",
    "        queue.pop(0)\r\n",
    "        print(curr.val)\r\n",
    "        if(curr.left!=None):\r\n",
    "            queue.append(curr.left)\r\n",
    "        if(curr.right!=None):\r\n",
    "            queue.append(curr.right)\r\n",
    "        \r\n",
    "        \r\n",
    "LOT(root)\r\n"
   ],
   "outputs": [
    {
     "output_type": "stream",
     "name": "stdout",
     "text": [
      "1\n",
      "2\n",
      "3\n",
      "4\n"
     ]
    }
   ],
   "metadata": {}
  },
  {
   "cell_type": "code",
   "execution_count": 17,
   "source": [
    "#Print Line by line method 1\r\n",
    "\r\n",
    "def LOT(root):\r\n",
    "    if (root==None):\r\n",
    "        return\r\n",
    "    queue=[]\r\n",
    "    queue.append(root)\r\n",
    "    queue.append(None)\r\n",
    "    while(len(queue)>1):\r\n",
    "        curr=queue[0]\r\n",
    "        queue.pop(0)\r\n",
    "        if (curr==None):\r\n",
    "            print(\"\")\r\n",
    "            queue.append(None)\r\n",
    "            continue\r\n",
    "        print(curr.val,end=\" \")\r\n",
    "        if(curr.left!=None):\r\n",
    "            queue.append(curr.left)\r\n",
    "        if(curr.right!=None):\r\n",
    "            queue.append(curr.right)      \r\n",
    "\r\n",
    "        \r\n",
    "        \r\n",
    "LOT(root)"
   ],
   "outputs": [
    {
     "output_type": "stream",
     "name": "stdout",
     "text": [
      "1 \n",
      "2 3 \n",
      "4 "
     ]
    }
   ],
   "metadata": {}
  },
  {
   "cell_type": "code",
   "execution_count": 1,
   "source": [
    "#Print Line by line method 2\r\n",
    "def LOT(root):\r\n",
    "    if (root==None):\r\n",
    "        return\r\n",
    "    queue=[]\r\n",
    "    queue.append(root)\r\n",
    "    while(len(queue)>0):\r\n",
    "        count=len(queue)\r\n",
    "        for i in range(count):\r\n",
    "            curr=queue[0]\r\n",
    "            queue.pop(0)\r\n",
    "            print(curr.val,end=\" \")\r\n",
    "            if(curr.left!=None):\r\n",
    "                queue.append(curr.left)\r\n",
    "            if(curr.right!=None):\r\n",
    "                queue.append(curr.right)      \r\n",
    "        print(\"\")\r\n",
    "        \r\n",
    "LOT(root)"
   ],
   "outputs": [
    {
     "output_type": "error",
     "ename": "NameError",
     "evalue": "name 'root' is not defined",
     "traceback": [
      "\u001b[1;31m---------------------------------------------------------------------------\u001b[0m",
      "\u001b[1;31mNameError\u001b[0m                                 Traceback (most recent call last)",
      "\u001b[1;32m<ipython-input-1-bdb7326315c1>\u001b[0m in \u001b[0;36m<module>\u001b[1;34m\u001b[0m\n\u001b[0;32m     17\u001b[0m         \u001b[0mprint\u001b[0m\u001b[1;33m(\u001b[0m\u001b[1;34m\"\"\u001b[0m\u001b[1;33m)\u001b[0m\u001b[1;33m\u001b[0m\u001b[1;33m\u001b[0m\u001b[0m\n\u001b[0;32m     18\u001b[0m \u001b[1;33m\u001b[0m\u001b[0m\n\u001b[1;32m---> 19\u001b[1;33m \u001b[0mLOT\u001b[0m\u001b[1;33m(\u001b[0m\u001b[0mroot\u001b[0m\u001b[1;33m)\u001b[0m\u001b[1;33m\u001b[0m\u001b[1;33m\u001b[0m\u001b[0m\n\u001b[0m",
      "\u001b[1;31mNameError\u001b[0m: name 'root' is not defined"
     ]
    }
   ],
   "metadata": {}
  },
  {
   "cell_type": "markdown",
   "source": [
    "Size Of Binary Tree"
   ],
   "metadata": {}
  },
  {
   "cell_type": "code",
   "execution_count": 25,
   "source": [
    "def getsize(root):\r\n",
    "    if(root==None):\r\n",
    "        return 0\r\n",
    "    else:\r\n",
    "        return(1+getsize(root.left)+getsize(root.right))\r\n",
    "\r\n",
    "getsize(root)"
   ],
   "outputs": [
    {
     "output_type": "execute_result",
     "data": {
      "text/plain": [
       "4"
      ]
     },
     "metadata": {},
     "execution_count": 25
    }
   ],
   "metadata": {}
  }
 ],
 "metadata": {
  "orig_nbformat": 4,
  "language_info": {
   "name": "python",
   "version": "3.9.5",
   "mimetype": "text/x-python",
   "codemirror_mode": {
    "name": "ipython",
    "version": 3
   },
   "pygments_lexer": "ipython3",
   "nbconvert_exporter": "python",
   "file_extension": ".py"
  },
  "kernelspec": {
   "name": "python3",
   "display_name": "Python 3.9.5 64-bit"
  },
  "interpreter": {
   "hash": "9552b8190f63102abce783a036fdab59c8fbd44b305ff071c472b263e7af8b3a"
  }
 },
 "nbformat": 4,
 "nbformat_minor": 2
}