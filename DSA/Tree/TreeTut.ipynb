{
 "cells": [
  {
   "cell_type": "markdown",
   "source": [
    "Creating Tree"
   ],
   "metadata": {}
  },
  {
   "cell_type": "code",
   "execution_count": 1,
   "source": [
    "class node:\r\n",
    "    def __init__(self,key):\r\n",
    "        self.left=None\r\n",
    "        self.right=None\r\n",
    "        self.val=key\r\n",
    "root=node(1)\r\n",
    "root.left=node(2)\r\n",
    "root.right=node(3) \r\n",
    "root.left.left=node(4)"
   ],
   "outputs": [],
   "metadata": {}
  },
  {
   "cell_type": "markdown",
   "source": [
    "Tree Traversals"
   ],
   "metadata": {}
  },
  {
   "cell_type": "code",
   "execution_count": 3,
   "source": [
    "def inorder(root):\r\n",
    "    if root:\r\n",
    "        inorder(root.left)\r\n",
    "        print(root.val)\r\n",
    "        inorder(root.right)\r\n",
    "\r\n",
    "inorder(root)"
   ],
   "outputs": [
    {
     "output_type": "stream",
     "name": "stdout",
     "text": [
      "4\n",
      "2\n",
      "1\n",
      "3\n"
     ]
    }
   ],
   "metadata": {}
  },
  {
   "cell_type": "code",
   "execution_count": 4,
   "source": [
    "def preorder(root):\r\n",
    "    if root:\r\n",
    "        print(root.val)\r\n",
    "        preorder(root.left)\r\n",
    "        preorder(root.right)\r\n",
    "preorder(root)"
   ],
   "outputs": [
    {
     "output_type": "stream",
     "name": "stdout",
     "text": [
      "1\n",
      "2\n",
      "4\n",
      "3\n"
     ]
    }
   ],
   "metadata": {}
  },
  {
   "cell_type": "code",
   "execution_count": 5,
   "source": [
    "def postorder(root):\r\n",
    "    if root:\r\n",
    "        postorder(root.left)\r\n",
    "        postorder(root.right)\r\n",
    "        print(root.val)\r\n",
    "postorder(root)"
   ],
   "outputs": [
    {
     "output_type": "stream",
     "name": "stdout",
     "text": [
      "4\n",
      "2\n",
      "3\n",
      "1\n"
     ]
    }
   ],
   "metadata": {}
  },
  {
   "cell_type": "markdown",
   "source": [
    "Height of Binary Tree"
   ],
   "metadata": {}
  },
  {
   "cell_type": "code",
   "execution_count": 6,
   "source": [
    "def height(root):\r\n",
    "    if (root==None):\r\n",
    "        return 0\r\n",
    "    else:\r\n",
    "        return (max(height(root.left),height(root.right))+1)\r\n",
    "\r\n",
    "height(root)\r\n"
   ],
   "outputs": [
    {
     "output_type": "execute_result",
     "data": {
      "text/plain": [
       "3"
      ]
     },
     "metadata": {},
     "execution_count": 6
    }
   ],
   "metadata": {}
  },
  {
   "cell_type": "markdown",
   "source": [
    "Print  Node At K distance   \r\n",
    "mean print k+1^th Level"
   ],
   "metadata": {}
  },
  {
   "cell_type": "code",
   "execution_count": 20,
   "source": [
    "def printdis(root,k):\r\n",
    "    if (root==None):\r\n",
    "        return\r\n",
    "    if(k==0):\r\n",
    "        print(root.val)\r\n",
    "    else:\r\n",
    "        printdis(root.left,k-1)\r\n",
    "        printdis(root.right,k-1)\r\n",
    "\r\n",
    "printdis(root,2)\r\n",
    "\r\n"
   ],
   "outputs": [],
   "metadata": {}
  },
  {
   "cell_type": "markdown",
   "source": [
    "Breadth First Traverseal  \r\n",
    "//Level Order Traversal"
   ],
   "metadata": {}
  },
  {
   "cell_type": "code",
   "execution_count": null,
   "source": [],
   "outputs": [],
   "metadata": {}
  }
 ],
 "metadata": {
  "orig_nbformat": 4,
  "language_info": {
   "name": "python"
  }
 },
 "nbformat": 4,
 "nbformat_minor": 2
}