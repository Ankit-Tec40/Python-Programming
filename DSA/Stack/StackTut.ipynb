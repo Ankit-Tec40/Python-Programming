{
 "cells": [
  {
   "cell_type": "code",
   "execution_count": 11,
   "source": [
    "# Stack implementation in python\r\n",
    "\r\n",
    "\r\n",
    "# Creating a stack\r\n",
    "def create_stack():\r\n",
    "    stack = []\r\n",
    "    return stack\r\n",
    "\r\n",
    "\r\n",
    "# Creating an empty stack\r\n",
    "def check_empty(stack):\r\n",
    "    return len(stack) == 0\r\n",
    "\r\n",
    "\r\n",
    "# Adding items into the stack\r\n",
    "def push(stack, item):\r\n",
    "    stack.append(item)\r\n",
    "    print(\"pushed item: \" + item)\r\n",
    "\r\n",
    "\r\n",
    "# Removing an element from the stack\r\n",
    "def pop(stack):\r\n",
    "    if (check_empty(stack)):\r\n",
    "        return \"stack is empty\"\r\n",
    "\r\n",
    "    return stack.pop()\r\n",
    "\r\n",
    "\r\n",
    "stack= create_stack()\r\n",
    "\r\n",
    "push(stack, str(1))\r\n",
    "push(stack, str(2))\r\n",
    "push(stack, str(3))\r\n",
    "push(stack, str(4))\r\n",
    "print(\"popped item: \" + pop(stack))\r\n",
    "\r\n",
    "\r\n",
    "print(\"stack after popping an element: \" + str(stack))"
   ],
   "outputs": [
    {
     "output_type": "stream",
     "name": "stdout",
     "text": [
      "pushed item: 1\n",
      "pushed item: 2\n",
      "pushed item: 3\n",
      "pushed item: 4\n",
      "popped item: stack is empty\n",
      "stack after popping an element: ['1', '2', '3', '1', '2', '3', '4', '1', '2', '3', '4', '1', '2', '3', '4', '1', '2', '3', '4']\n"
     ]
    }
   ],
   "metadata": {}
  },
  {
   "cell_type": "code",
   "execution_count": 7,
   "source": [
    "stack"
   ],
   "outputs": [
    {
     "output_type": "execute_result",
     "data": {
      "text/plain": [
       "['1', '2', '3']"
      ]
     },
     "metadata": {},
     "execution_count": 7
    }
   ],
   "metadata": {}
  },
  {
   "cell_type": "code",
   "execution_count": null,
   "source": [],
   "outputs": [],
   "metadata": {}
  }
 ],
 "metadata": {
  "orig_nbformat": 4,
  "language_info": {
   "name": "python"
  }
 },
 "nbformat": 4,
 "nbformat_minor": 2
}