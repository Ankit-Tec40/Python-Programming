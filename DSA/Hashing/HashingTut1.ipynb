{
 "cells": [
  {
   "cell_type": "markdown",
   "source": [
    "Hashing Tut"
   ],
   "metadata": {}
  },
  {
   "cell_type": "code",
   "execution_count": 20,
   "source": [
    "#hashing\r\n",
    "class hashtable:\r\n",
    "    def __init__(self):\r\n",
    "        self.max=100\r\n",
    "        self.arr=[None for i in range(self.max)]\r\n",
    "        \r\n",
    "    def gethashkey(self,key):\r\n",
    "        return key//5\r\n",
    "    # def add(self,key,val):\r\n",
    "    #     h=self.gethashkey(key)\r\n",
    "    #     self.arr[h]=val\r\n",
    "    # def get(self,key):\r\n",
    "    #     h=self.gethashkey(key)\r\n",
    "    #     return self.arr[h]\r\n",
    "    def __setitem__(self,key,val):\r\n",
    "        h=self.gethashkey(key)\r\n",
    "        self.arr[h]=val\r\n",
    "    def __getitem__(self,key):\r\n",
    "        h=self.gethashkey(key)\r\n",
    "        return self.arr[h]"
   ],
   "outputs": [],
   "metadata": {}
  },
  {
   "cell_type": "code",
   "execution_count": 25,
   "source": [
    "obj=hashtable()\r\n",
    "obj[10]=200\r\n",
    "obj[10]=500"
   ],
   "outputs": [],
   "metadata": {}
  },
  {
   "cell_type": "code",
   "execution_count": 10,
   "source": [
    "# chaning\r\n",
    "hashtable=[[] for _ in range(10)]\r\n",
    "def hashing(key):\r\n",
    "    return key%10\r\n",
    "def add(hashtable,key,value):\r\n",
    "    h=hashing(key)\r\n",
    "    hashtable[h].append({key:value})\r\n"
   ],
   "outputs": [],
   "metadata": {}
  },
  {
   "cell_type": "code",
   "execution_count": 11,
   "source": [
    "add(hashtable, 10, 'Allahabad')\r\n",
    "add(hashtable, 25, 'Mumbai')\r\n",
    "add(hashtable, 20, 'Mathura')\r\n",
    "add(hashtable, 9, 'Delhi')\r\n",
    "add(hashtable, 21, 'Punjab')\r\n",
    "add(hashtable, 21, 'Noida')"
   ],
   "outputs": [],
   "metadata": {}
  },
  {
   "cell_type": "code",
   "execution_count": 12,
   "source": [
    "\r\n",
    "# Function to display hashtable\r\n",
    "def display_hash(hashTable):\r\n",
    "    \r\n",
    "    for i in range(len(hashTable)):\r\n",
    "        print(i, end = \" \")\r\n",
    "        \r\n",
    "        for j in hashTable[i]:\r\n",
    "            print(\"-->\", end = \" \")\r\n",
    "            print(j, end = \" \")\r\n",
    "              \r\n",
    "        print()\r\n",
    "display_hash(hashtable)"
   ],
   "outputs": [
    {
     "output_type": "stream",
     "name": "stdout",
     "text": [
      "0 --> {10: 'Allahabad'} --> {20: 'Mathura'} \n",
      "1 --> {21: 'Punjab'} --> {21: 'Noida'} \n",
      "2 \n",
      "3 \n",
      "4 \n",
      "5 --> {25: 'Mumbai'} \n",
      "6 \n",
      "7 \n",
      "8 \n",
      "9 --> {9: 'Delhi'} \n"
     ]
    }
   ],
   "metadata": {}
  },
  {
   "cell_type": "code",
   "execution_count": 21,
   "source": [
    "d={5:{2:200,45:500}}"
   ],
   "outputs": [],
   "metadata": {}
  },
  {
   "cell_type": "code",
   "execution_count": 38,
   "source": [
    "# open addressing\r\n",
    "htable=[None for _ in range(10)]\r\n",
    "def hash(key):\r\n",
    "    return key%7\r\n",
    "def add(key):\r\n",
    "    h=hash(key)\r\n",
    "    if htable[h]==None:\r\n",
    "        htable[h]=key\r\n",
    "    else:\r\n",
    "        for i in range(h+1,11):\r\n",
    "            if htable[i]==None:\r\n",
    "                htable[i]=key\r\n",
    "                return\r\n",
    "        for j in range(h):\r\n",
    "            if htable[j]==None:\r\n",
    "                htable[j]=key\r\n",
    "                return\r\n",
    "\r\n",
    "\r\n",
    "add(50)\r\n",
    "add(51)\r\n",
    "add(15)\r\n"
   ],
   "outputs": [],
   "metadata": {}
  },
  {
   "cell_type": "code",
   "execution_count": 39,
   "source": [
    "htable"
   ],
   "outputs": [
    {
     "output_type": "execute_result",
     "data": {
      "text/plain": [
       "[None, 50, 51, None, None, None, None, None, None]"
      ]
     },
     "metadata": {},
     "execution_count": 39
    }
   ],
   "metadata": {}
  },
  {
   "cell_type": "code",
   "execution_count": null,
   "source": [],
   "outputs": [],
   "metadata": {}
  }
 ],
 "metadata": {
  "orig_nbformat": 4,
  "language_info": {
   "name": "python",
   "version": "3.8.10",
   "mimetype": "text/x-python",
   "codemirror_mode": {
    "name": "ipython",
    "version": 3
   },
   "pygments_lexer": "ipython3",
   "nbconvert_exporter": "python",
   "file_extension": ".py"
  },
  "kernelspec": {
   "name": "python3",
   "display_name": "Python 3.8.10 64-bit"
  },
  "interpreter": {
   "hash": "58337ba4531fbb29faf8b175aa152f7a18cfcf682ce314a07331038047d21a52"
  }
 },
 "nbformat": 4,
 "nbformat_minor": 2
}