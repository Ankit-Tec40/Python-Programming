{
 "cells": [
  {
   "cell_type": "code",
   "execution_count": 1,
   "source": [
    "lst=[]\r\n",
    "lst.append({2:200})\r\n",
    "lst[0][2]\r\n"
   ],
   "outputs": [
    {
     "output_type": "execute_result",
     "data": {
      "text/plain": [
       "200"
      ]
     },
     "metadata": {},
     "execution_count": 1
    }
   ],
   "metadata": {}
  }
 ],
 "metadata": {
  "orig_nbformat": 4,
  "language_info": {
   "name": "python",
   "version": "3.8.10",
   "mimetype": "text/x-python",
   "codemirror_mode": {
    "name": "ipython",
    "version": 3
   },
   "pygments_lexer": "ipython3",
   "nbconvert_exporter": "python",
   "file_extension": ".py"
  },
  "kernelspec": {
   "name": "python3",
   "display_name": "Python 3.8.10 64-bit"
  },
  "interpreter": {
   "hash": "58337ba4531fbb29faf8b175aa152f7a18cfcf682ce314a07331038047d21a52"
  }
 },
 "nbformat": 4,
 "nbformat_minor": 2
}