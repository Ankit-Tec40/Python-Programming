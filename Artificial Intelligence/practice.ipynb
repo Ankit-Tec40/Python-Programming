{
 "metadata": {
  "language_info": {
   "codemirror_mode": {
    "name": "ipython",
    "version": 3
   },
   "file_extension": ".py",
   "mimetype": "text/x-python",
   "name": "python",
   "nbconvert_exporter": "python",
   "pygments_lexer": "ipython3",
   "version": "3.9.1-final"
  },
  "orig_nbformat": 2,
  "kernelspec": {
   "name": "python3",
   "display_name": "Python 3.9.1 64-bit",
   "metadata": {
    "interpreter": {
     "hash": "b5843a13e7131a14c3c0e364f0390d6592a995e3082c3f83420ac4385eeb2370"
    }
   }
  }
 },
 "nbformat": 4,
 "nbformat_minor": 2,
 "cells": [
  {
   "cell_type": "code",
   "execution_count": 1,
   "metadata": {},
   "outputs": [],
   "source": [
    "#bubble sort"
   ]
  },
  {
   "cell_type": "code",
   "execution_count": 1,
   "metadata": {},
   "outputs": [],
   "source": [
    "lst=[48,65,98,6,56,78,72,49,76,15,71,21,456,4,45,26,5]"
   ]
  },
  {
   "cell_type": "code",
   "execution_count": 2,
   "metadata": {},
   "outputs": [],
   "source": [
    "def bubbleSort(l):\n",
    "    n = len(l)\n",
    "\n",
    "    for i in range( n - 1 ) :\n",
    "        flag = 0\n",
    "\n",
    "        for j in range(n-i-1) :\n",
    "            \n",
    "            if l[j] > l[j + 1] : \n",
    "                l[j],l[j + 1] = l[j + 1],l[j]\n",
    "                flag = 1\n",
    "        if flag == 0:\n",
    "            break\n",
    "    return(l)\n",
    "\n",
    "\n",
    "   "
   ]
  },
  {
   "cell_type": "code",
   "execution_count": 3,
   "metadata": {},
   "outputs": [
    {
     "output_type": "stream",
     "name": "stdout",
     "text": [
      "[4, 5, 6, 15, 21, 26, 45, 48, 49, 56, 65, 71, 72, 76, 78, 98, 456]\n"
     ]
    }
   ],
   "source": [
    "\n",
    "result = bubbleSort(lst)\n",
    "\n",
    "print (result)"
   ]
  },
  {
   "cell_type": "code",
   "execution_count": null,
   "metadata": {},
   "outputs": [],
   "source": []
  }
 ]
}