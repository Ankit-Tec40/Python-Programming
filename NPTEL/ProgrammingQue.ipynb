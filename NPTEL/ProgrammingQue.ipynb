{
 "metadata": {
  "language_info": {
   "codemirror_mode": {
    "name": "ipython",
    "version": 3
   },
   "file_extension": ".py",
   "mimetype": "text/x-python",
   "name": "python",
   "nbconvert_exporter": "python",
   "pygments_lexer": "ipython3",
   "version": "3.9.1"
  },
  "orig_nbformat": 2,
  "kernelspec": {
   "name": "python3",
   "display_name": "Python 3.9.1 64-bit",
   "metadata": {
    "interpreter": {
     "hash": "42b2104b4e02cc58eae7a69e6e6ea096607e7e385ce3c6fb378bfd39edebb22e"
    }
   }
  }
 },
 "nbformat": 4,
 "nbformat_minor": 2,
 "cells": [
  {
   "cell_type": "code",
   "execution_count": 4,
   "metadata": {},
   "outputs": [],
   "source": [
    "#week 2\n"
   ]
  },
  {
   "cell_type": "code",
   "execution_count": null,
   "metadata": {},
   "outputs": [],
   "source": [
    "#Que 1"
   ]
  },
  {
   "cell_type": "code",
   "execution_count": 2,
   "metadata": {},
   "outputs": [],
   "source": [
    "\"\"\" \n",
    "\n",
    "def isprime(n):\n",
    "  if(n>=1):\n",
    "        factorlist=[]\n",
    "        for i in range (1, n+1):\n",
    "            if(n%i==0):\n",
    "                factorlist=factorlist + [i]\n",
    "        if(len(factorlist)==2):\n",
    "            return(True)\n",
    "        else:\n",
    "            return(False)\n",
    "    else:\n",
    "        return(False)\n",
    "\n",
    "\n",
    "\n",
    "\n",
    "\n",
    "\n",
    "\n",
    "        def primepartition2(m):\n",
    "    if(m<0):\n",
    "        return(False)\n",
    "    n=m\n",
    "    for j in range(1,m,1):\n",
    "        for k in range(n-1,0,-1):\n",
    "            if(j+k==m):\n",
    "                if((isprime(j)==True) and (isprime(k)==True)):\n",
    "                    return(True)\n",
    "                else:\n",
    "                    n=k\n",
    "                    break\n",
    "            else:\n",
    "                return(False)\n",
    "                \n",
    "primepartition2(185)\n",
    "\"\"\"\n",
    "\n",
    "\n",
    "\n",
    "\n",
    "\n",
    "\n"
   ]
  },
  {
   "cell_type": "code",
   "execution_count": 67,
   "metadata": {},
   "outputs": [
    {
     "output_type": "execute_result",
     "data": {
      "text/plain": [
       "False"
      ]
     },
     "metadata": {},
     "execution_count": 67
    }
   ],
   "source": [
    "def isprime(num):\n",
    "    if num > 1:\n",
    "        for i in range(2, num):\n",
    "            if (num % i) == 0:\n",
    "                return(False)\n",
    "                break\n",
    "        else:\n",
    "            return(True)\n",
    "    else:\n",
    "        return(False) \n",
    "isprime(185)    "
   ]
  },
  {
   "cell_type": "code",
   "execution_count": 97,
   "metadata": {},
   "outputs": [
    {
     "output_type": "execute_result",
     "data": {
      "text/plain": [
       "True"
      ]
     },
     "metadata": {},
     "execution_count": 97
    }
   ],
   "source": [
    "def primepartition(m):\n",
    "    if(m<0):\n",
    "        return(False)\n",
    "    for j in range(1,int(m/2)+1,1):\n",
    "        n1=j\n",
    "        n2=m-j\n",
    "        if((isprime(n1)==True) and (isprime(n2)==True)):\n",
    "            return(True)\n",
    "        elif(j<int(m/2)):\n",
    "            continue\n",
    "        else:\n",
    "            return(False)\n",
    "                \n",
    "primepartition(3432)"
   ]
  },
  {
   "cell_type": "code",
   "execution_count": 76,
   "metadata": {},
   "outputs": [
    {
     "output_type": "execute_result",
     "data": {
      "text/plain": [
       "False"
      ]
     },
     "metadata": {},
     "execution_count": 76
    }
   ],
   "source": [
    "def primepartition(m):\n",
    "    if(m<0):\n",
    "        return(False)\n",
    "    for j in range(1,m,1):\n",
    "        for k in range(m-1,0,-1):\n",
    "            if(j+k==m):\n",
    "                if((isprime(j)==True) and (isprime(k)==True)):\n",
    "                    return(True)\n",
    "                elif(k>1 and j<m):\n",
    "                    continue\n",
    "                else:\n",
    "                    return(False)\n",
    "primepartition(185)"
   ]
  },
  {
   "cell_type": "code",
   "execution_count": 123,
   "metadata": {},
   "outputs": [],
   "source": [
    "# Que 2"
   ]
  },
  {
   "cell_type": "code",
   "execution_count": 150,
   "metadata": {},
   "outputs": [
    {
     "output_type": "execute_result",
     "data": {
      "text/plain": [
       "True"
      ]
     },
     "metadata": {},
     "execution_count": 150
    }
   ],
   "source": [
    "def matched(s):\n",
    "    strlist=[]\n",
    "    checklist=[]\n",
    "    for i in s:\n",
    "        strlist=strlist+[i]\n",
    "\n",
    "    for j in strlist:\n",
    "        if(j==\"(\"):\n",
    "            checklist=checklist+[\"(\"]\n",
    "        elif(j==\")\"):\n",
    "            if(len(checklist)>0):\n",
    "                checklist.pop(len(checklist)-1)\n",
    "    if(len(checklist)==0):\n",
    "        return(True)\n",
    "    else:\n",
    "        return(False)\n",
    "\n",
    "\n",
    "\n",
    "s=input()\n",
    "matched(s)"
   ]
  },
  {
   "cell_type": "code",
   "execution_count": 151,
   "metadata": {},
   "outputs": [],
   "source": [
    "# Que 3"
   ]
  },
  {
   "cell_type": "code",
   "execution_count": 160,
   "metadata": {},
   "outputs": [
    {
     "output_type": "execute_result",
     "data": {
      "text/plain": [
       "[3, 4, 5, 1, 2]"
      ]
     },
     "metadata": {},
     "execution_count": 160
    }
   ],
   "source": [
    "def rotatelist(l,k):\n",
    "    if(k<0):\n",
    "        return(l)\n",
    "    lst=l[:]\n",
    "    for i in range(1,k+1):\n",
    "        lst.append(lst[0])\n",
    "        lst.pop(0)\n",
    "    return(lst)\n",
    "\n",
    "\n",
    "rotatelist([1,2,3,4,5],12)"
   ]
  },
  {
   "cell_type": "code",
   "execution_count": 1,
   "metadata": {},
   "outputs": [],
   "source": [
    "#Week 3\n",
    "\n",
    "\n"
   ]
  },
  {
   "cell_type": "code",
   "execution_count": 8,
   "metadata": {},
   "outputs": [
    {
     "output_type": "execute_result",
     "data": {
      "text/plain": [
       "[1, 3, 5]"
      ]
     },
     "metadata": {},
     "execution_count": 8
    }
   ],
   "source": [
    "def remdup(l):\n",
    "    lst=[]\n",
    "    for x in l:\n",
    "        if x in lst:\n",
    "            lst.remove(x)\n",
    "            lst.append(x)\n",
    "        else:\n",
    "            lst.append(x)\n",
    "    return(lst)\n",
    "\n",
    "\n",
    "remdup([3,1,3,5])\n"
   ]
  },
  {
   "cell_type": "code",
   "execution_count": 11,
   "metadata": {},
   "outputs": [
    {
     "output_type": "execute_result",
     "data": {
      "text/plain": [
       "[10, -125]"
      ]
     },
     "metadata": {},
     "execution_count": 11
    }
   ],
   "source": [
    "def splitsum(l):\n",
    "    pos=0\n",
    "    neg=0\n",
    "    for y in l:\n",
    "        if(y>=0):\n",
    "            pos=pos+(y*y)\n",
    "        else:\n",
    "            neg=neg+(y*y*y)\n",
    "    return([pos,neg])\n",
    "\n",
    "splitsum([1,3,-5])"
   ]
  },
  {
   "cell_type": "code",
   "execution_count": 17,
   "metadata": {},
   "outputs": [
    {
     "output_type": "execute_result",
     "data": {
      "text/plain": [
       "[[4, 3], [2, 1]]"
      ]
     },
     "metadata": {},
     "execution_count": 17
    }
   ],
   "source": [
    "def matrixflip(m,d):\n",
    "    lst=[]\n",
    "    lst.extend(m)\n",
    "\n",
    "    if(d=='v'):\n",
    "        lst[0],lst[len(lst)-1]=lst[len(lst)-1],lst[0]\n",
    "        return(lst[:])\n",
    "    elif(d=='h'):\n",
    "        for z in lst:\n",
    "            z[0],z[len(z)-1]=z[len(z)-1],z[0]\n",
    "        return(lst[:])\n",
    "    else:\n",
    "        return(lst[:])\n",
    "    \n",
    "   \n",
    "\n",
    "\n",
    "myl=[[1,2],[3,4]]\n",
    "\n",
    "matrixflip(matrixflip2(myl,'h'),'v')\n",
    "\n"
   ]
  },
  {
   "cell_type": "code",
   "execution_count": 19,
   "metadata": {},
   "outputs": [
    {
     "output_type": "execute_result",
     "data": {
      "text/plain": [
       "[[1, 2], [3, 4]]"
      ]
     },
     "metadata": {},
     "execution_count": 19
    }
   ],
   "source": [
    "myl"
   ]
  },
  {
   "cell_type": "code",
   "execution_count": 5,
   "metadata": {},
   "outputs": [
    {
     "output_type": "execute_result",
     "data": {
      "text/plain": [
       "[[4, 3], [2, 1]]"
      ]
     },
     "metadata": {},
     "execution_count": 5
    }
   ],
   "source": [
    "def matrixflip2(m,d):\n",
    "    h=[]\n",
    "    if d=='h' :\n",
    "        for x in m:\n",
    "            hr=[]\n",
    "            for row in range(1,len(x)+1):\n",
    "                hr.append(x[-row])\n",
    "            h.append(hr)\n",
    "        return(h)\n",
    "    if d=='v':\n",
    "        v=[]\n",
    "        for vr in range(1,len(m)+1):\n",
    "            v.append(m[-vr])\n",
    "        return(v)\n",
    "    else:\n",
    "        return(m)\n",
    "\n",
    "\n",
    "\n",
    "\n",
    "myl2=[[1,2],[3,4]]\n",
    "\n",
    "matrixflip2(matrixflip2(myl2,'h'),'v')\n",
    "\n"
   ]
  },
  {
   "cell_type": "code",
   "execution_count": 6,
   "metadata": {},
   "outputs": [
    {
     "output_type": "execute_result",
     "data": {
      "text/plain": [
       "[[1, 2], [3, 4]]"
      ]
     },
     "metadata": {},
     "execution_count": 6
    }
   ],
   "source": [
    "myl2"
   ]
  },
  {
   "cell_type": "code",
   "execution_count": 1,
   "metadata": {},
   "outputs": [],
   "source": [
    "\n",
    "\n",
    "# Week 4\n",
    "\n"
   ]
  },
  {
   "cell_type": "code",
   "execution_count": 2,
   "metadata": {},
   "outputs": [],
   "source": [
    "# que 1"
   ]
  },
  {
   "cell_type": "code",
   "execution_count": 29,
   "metadata": {},
   "outputs": [],
   "source": [
    "def rainaverage(l):\n",
    "    avgrainfall={}\n",
    "    return(0)"
   ]
  },
  {
   "cell_type": "code",
   "execution_count": 30,
   "metadata": {},
   "outputs": [
    {
     "output_type": "execute_result",
     "data": {
      "text/plain": [
       "0"
      ]
     },
     "metadata": {},
     "execution_count": 30
    }
   ],
   "source": [
    "rainaverage([('Bombay',848),('Madras',103),('Bombay',923),('Bangalore',201),('Madras',128)])"
   ]
  },
  {
   "cell_type": "code",
   "execution_count": 31,
   "metadata": {},
   "outputs": [],
   "source": [
    "# que 2"
   ]
  },
  {
   "cell_type": "code",
   "execution_count": 1,
   "metadata": {},
   "outputs": [
    {
     "output_type": "error",
     "ename": "IndentationError",
     "evalue": "expected an indented block (<ipython-input-1-28d357217157>, line 8)",
     "traceback": [
      "\u001b[1;36m  File \u001b[1;32m\"<ipython-input-1-28d357217157>\"\u001b[1;36m, line \u001b[1;32m8\u001b[0m\n\u001b[1;33m    \u001b[0m\n\u001b[1;37m    ^\u001b[0m\n\u001b[1;31mIndentationError\u001b[0m\u001b[1;31m:\u001b[0m expected an indented block\n"
     ]
    }
   ],
   "source": [
    "def flatten(l):\n",
    "    flattenlist=[]\n",
    "    for x in l:\n",
    "        if(type(x)==list):\n",
    "            \n",
    "\n",
    "\n",
    "\n"
   ]
  },
  {
   "cell_type": "code",
   "execution_count": 2,
   "metadata": {},
   "outputs": [],
   "source": [
    "# weeek 5\n",
    "\n",
    "\n"
   ]
  },
  {
   "cell_type": "code",
   "execution_count": null,
   "metadata": {},
   "outputs": [],
   "source": [
    "stats = {}   \n",
    "\n",
    "line = input()\n",
    "\n",
    "while line:\n",
    "\n",
    "  (wsets,lsets,wgames,lgames) = (0,0,0,0)\n",
    "\n",
    "  (winner,loser,setscores) = line.strip().split(':',2)\n",
    "\n",
    "  sets = setscores.split(',')\n",
    "\n",
    "\n",
    "\n",
    "  for set in sets:\n",
    "\n",
    "    (winstr,losestr) = set.split('-')\n",
    "\n",
    "    win = int(winstr)\n",
    "\n",
    "    lose = int(losestr)\n",
    "\n",
    "    wgames = wgames + win\n",
    "\n",
    "    lgames = lgames + lose\n",
    "\n",
    "    if win > lose:\n",
    "\n",
    "      wsets = wsets + 1\n",
    "\n",
    "    else:\n",
    "\n",
    "      lsets = lsets + 1\n",
    "\n",
    "  for player in [winner,loser]:\n",
    "\n",
    "    try:\n",
    "\n",
    "      stats[player]\n",
    "\n",
    "    except KeyError:\n",
    "\n",
    "      stats[player] = [0,0,0,0,0,0]\n",
    "\n",
    "\n",
    "\n",
    "  if wsets >= 3:\n",
    "\n",
    "    stats[winner][0] = stats[winner][0] + 1\n",
    "\n",
    "  else:\n",
    "\n",
    "    stats[winner][1] = stats[winner][1] + 1\n",
    "\n",
    "\n",
    "\n",
    "  stats[winner][2] = stats[winner][2] + wsets\n",
    "\n",
    "  stats[winner][3] = stats[winner][3] + wgames\n",
    "\n",
    "  stats[winner][4] = stats[winner][4] - lsets\n",
    "\n",
    "  stats[winner][5] = stats[winner][5] - lgames\n",
    "\n",
    "\n",
    "\n",
    "  stats[loser][2] = stats[loser][2] + lsets\n",
    "\n",
    "  stats[loser][3] = stats[loser][3] + lgames\n",
    "\n",
    "  stats[loser][4] = stats[loser][4] - wsets\n",
    "\n",
    "  stats[loser][5] = stats[loser][5] - wgames\n",
    "\n",
    "  line = input()\n",
    "\n",
    "statlist = [(stat[0],stat[1],stat[2],stat[3],stat[4],stat[5],name) for name in stats.keys() for stat in [stats[name]]]\n",
    "\n",
    "statlist.sort(reverse = True)\n",
    "\n",
    "for entry in statlist:\n",
    "\n",
    "    print(entry[6],entry[0],entry[1],entry[2],entry[3], -entry[4], -entry[5])\n",
    "\n"
   ]
  }
 ]
}