{
 "metadata": {
  "language_info": {
   "codemirror_mode": {
    "name": "ipython",
    "version": 3
   },
   "file_extension": ".py",
   "mimetype": "text/x-python",
   "name": "python",
   "nbconvert_exporter": "python",
   "pygments_lexer": "ipython3",
   "version": "3.9.1-final"
  },
  "orig_nbformat": 2,
  "kernelspec": {
   "name": "python3",
   "display_name": "Python 3.9.1 64-bit",
   "metadata": {
    "interpreter": {
     "hash": "b5843a13e7131a14c3c0e364f0390d6592a995e3082c3f83420ac4385eeb2370"
    }
   }
  }
 },
 "nbformat": 4,
 "nbformat_minor": 2,
 "cells": [
  {
   "cell_type": "code",
   "execution_count": 1,
   "metadata": {},
   "outputs": [],
   "source": [
    "#1"
   ]
  },
  {
   "cell_type": "code",
   "execution_count": 3,
   "metadata": {},
   "outputs": [
    {
     "output_type": "execute_result",
     "data": {
      "text/plain": [
       "5"
      ]
     },
     "metadata": {},
     "execution_count": 3
    }
   ],
   "source": [
    "def maxbad(l):\n",
    "  mymax = l[-1]\n",
    "  for i in range(-1,-len(l),-1):\n",
    "    if l[i] > mymax:\n",
    "       mymax = l[i]\n",
    "  return(mymax)\n",
    "maxbad([6,2,3,4,5])\n"
   ]
  },
  {
   "cell_type": "code",
   "execution_count": 4,
   "metadata": {},
   "outputs": [],
   "source": [
    "#2  doubt"
   ]
  },
  {
   "cell_type": "code",
   "execution_count": 6,
   "metadata": {},
   "outputs": [
    {
     "output_type": "execute_result",
     "data": {
      "text/plain": [
       "[2, 4, 5, 6, 8, 52]"
      ]
     },
     "metadata": {},
     "execution_count": 6
    }
   ],
   "source": [
    "def quicksortbad(l):\n",
    "  if len(l) < 2:\n",
    "    return(l)\n",
    "  else:\n",
    "    pivot = l[0]\n",
    "    smaller = [l[j] for j in range(1,len(l)) if l[j] < pivot]\n",
    "    bigger = [l[j] for j in range(1,len(l)) if l[j] > pivot]\n",
    "    rearrange = quicksortbad(smaller) + [pivot] + quicksortbad(bigger)\n",
    "    return(rearrange)\n",
    "quicksortbad([6,8,4,2,5,4,8,52,5,5])"
   ]
  },
  {
   "cell_type": "code",
   "execution_count": 7,
   "metadata": {},
   "outputs": [],
   "source": [
    "#3"
   ]
  },
  {
   "cell_type": "code",
   "execution_count": 8,
   "metadata": {},
   "outputs": [],
   "source": [
    "def median3(x,y,z):\n",
    "  if x <= y:\n",
    "    if x >= z:\n",
    "       mymedian = x\n",
    "  # Your code below this line\n",
    "\n",
    "  if y <= z:\n",
    "    if y >= x:\n",
    "       mymedian = y\n",
    "  if z <= x:\n",
    "    if z >= y:\n",
    "       mymedian = z\n",
    "  if x <= z:\n",
    "    if x >= y:\n",
    "       mymedian = x\n",
    "  if y <= x:\n",
    "    if y >= z:\n",
    "       mymedian = y   \n",
    "  if z<=y:\n",
    "    if z>=x:\n",
    "       mymedian = z      \n",
    "  # Your code above this line\n",
    "  return(mymedian)"
   ]
  },
  {
   "cell_type": "code",
   "execution_count": 9,
   "metadata": {},
   "outputs": [],
   "source": [
    "#4"
   ]
  },
  {
   "cell_type": "code",
   "execution_count": null,
   "metadata": {},
   "outputs": [],
   "source": []
  }
 ]
}