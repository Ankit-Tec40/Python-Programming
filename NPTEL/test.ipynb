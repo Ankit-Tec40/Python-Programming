{
 "metadata": {
  "language_info": {
   "codemirror_mode": {
    "name": "ipython",
    "version": 3
   },
   "file_extension": ".py",
   "mimetype": "text/x-python",
   "name": "python",
   "nbconvert_exporter": "python",
   "pygments_lexer": "ipython3",
   "version": "3.9.1-final"
  },
  "orig_nbformat": 2,
  "kernelspec": {
   "name": "python3",
   "display_name": "Python 3.9.1 64-bit",
   "metadata": {
    "interpreter": {
     "hash": "b5843a13e7131a14c3c0e364f0390d6592a995e3082c3f83420ac4385eeb2370"
    }
   }
  }
 },
 "nbformat": 4,
 "nbformat_minor": 2,
 "cells": [
  {
   "cell_type": "code",
   "execution_count": 1,
   "metadata": {},
   "outputs": [],
   "source": [
    "def maxbad(l):\n",
    "  mymax = l[-1]\n",
    "  for i in range(-1,-len(l),-1):\n",
    "    if l[i] > mymax:\n",
    "       mymax = l[i]\n",
    "  return(mymax)"
   ]
  },
  {
   "cell_type": "code",
   "execution_count": 3,
   "metadata": {},
   "outputs": [
    {
     "output_type": "stream",
     "name": "stdout",
     "text": [
      "-1\n-2\n-3\n-4\n"
     ]
    }
   ],
   "source": [
    "a=[1,2,3,4,5]\n",
    "for i in range(-1,-len(a),-1):\n",
    "    print(i)"
   ]
  },
  {
   "cell_type": "code",
   "execution_count": 4,
   "metadata": {},
   "outputs": [],
   "source": [
    "def median3(x,y,z):\n",
    "  if x <= y:\n",
    "    if x >= z:\n",
    "       mymedian = x\n",
    "  # Your code below this line\n",
    "  if y <= z:\n",
    "    if y >= x:\n",
    "       mymedian = y\n",
    "  else:\n",
    "       mymedian = z\n"
   ]
  },
  {
   "cell_type": "code",
   "execution_count": null,
   "metadata": {},
   "outputs": [],
   "source": [
    "def sum3cubes(n):\n",
    "    for i in range(1,n):\n",
    "        for j in range(1,n):\n",
    "            for k in range(1,n):\n",
    "                if(n==(i*i*i+j*j*j+k*k*k)):\n",
    "                    return (True)\n",
    "                    break\n",
    "                else:\n",
    "                    return (False)"
   ]
  }
 ]
}