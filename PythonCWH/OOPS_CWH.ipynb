{
 "metadata": {
  "language_info": {
   "codemirror_mode": {
    "name": "ipython",
    "version": 3
   },
   "file_extension": ".py",
   "mimetype": "text/x-python",
   "name": "python",
   "nbconvert_exporter": "python",
   "pygments_lexer": "ipython3",
   "version": "3.9.1"
  },
  "orig_nbformat": 2,
  "kernelspec": {
   "name": "python391jvsc74a57bd0b5843a13e7131a14c3c0e364f0390d6592a995e3082c3f83420ac4385eeb2370",
   "display_name": "Python 3.9.1 64-bit"
  },
  "metadata": {
   "interpreter": {
    "hash": "b5843a13e7131a14c3c0e364f0390d6592a995e3082c3f83420ac4385eeb2370"
   }
  }
 },
 "nbformat": 4,
 "nbformat_minor": 2,
 "cells": [
  {
   "cell_type": "code",
   "execution_count": 1,
   "metadata": {},
   "outputs": [],
   "source": [
    "#video 52\n",
    "\n",
    "# Object oriented Programming"
   ]
  },
  {
   "cell_type": "code",
   "execution_count": 6,
   "metadata": {},
   "outputs": [
    {
     "output_type": "stream",
     "name": "stdout",
     "text": [
      "<__main__.student object at 0x000001E372E63AF0> <__main__.student object at 0x000001E372E63F70>\n"
     ]
    }
   ],
   "source": [
    "#1\n",
    "\n",
    "class student:\n",
    "    pass\n",
    "\n",
    "ob1=student()\n",
    "ob2=student()\n",
    "print(ob1,ob2)"
   ]
  },
  {
   "cell_type": "code",
   "execution_count": 10,
   "metadata": {},
   "outputs": [
    {
     "output_type": "stream",
     "name": "stdout",
     "text": [
      "ankit\namit\n"
     ]
    }
   ],
   "source": [
    "class student:\n",
    "    pass\n",
    "\n",
    "ob1=student()\n",
    "ob1.name=\"ankit\"\n",
    "ob1.salary=5000\n",
    "\n",
    "ob2=student()\n",
    "ob2.name=\"amit\"\n",
    "ob2.salary=8000\n",
    "print(ob1.name)\n",
    "print(ob2.name)"
   ]
  },
  {
   "cell_type": "code",
   "execution_count": 13,
   "metadata": {},
   "outputs": [
    {
     "output_type": "stream",
     "name": "stdout",
     "text": [
      "78\n78\n"
     ]
    }
   ],
   "source": [
    "# 2\n",
    "\n",
    "class Employee:\n",
    "    noofleaves=8\n",
    "harry=Employee()\n",
    "rohan=Employee()\n",
    "\n",
    "harry.name=\"harry\"\n",
    "rohan.name=\"rohan\"\n",
    "Employee.noofleaves=78\n",
    "print(harry.noofleaves)\n",
    "print(rohan.noofleaves)\n",
    "\n",
    "\n",
    "\n"
   ]
  },
  {
   "cell_type": "code",
   "execution_count": 27,
   "metadata": {},
   "outputs": [
    {
     "output_type": "stream",
     "name": "stdout",
     "text": [
      "Name is harry\nName is rohan\n"
     ]
    }
   ],
   "source": [
    "# 3\n",
    "\n",
    "class Employee:\n",
    "    def printdetails(self):\n",
    "        return (f\"Name is {self.name}\")\n",
    "\n",
    "harry=Employee()\n",
    "rohan=Employee()\n",
    "\n",
    "harry.name=\"harry\"\n",
    "rohan.name=\"rohan\"\n",
    "\n",
    "print(harry.printdetails())\n",
    "print(rohan.printdetails())\n",
    "\n"
   ]
  },
  {
   "cell_type": "code",
   "execution_count": 34,
   "metadata": {},
   "outputs": [
    {
     "output_type": "stream",
     "name": "stdout",
     "text": [
      "455\n"
     ]
    }
   ],
   "source": [
    "# 4\n",
    "# constructor\n",
    "\n",
    "class Employee:\n",
    "    def __init__(self,aname,asalary,arole): # constructor\n",
    "        self.name=aname\n",
    "        self.salary=asalary\n",
    "        self.role=arole\n",
    "\n",
    "harry=Employee(\"Harry\",455,\"Instructor\")\n",
    "\n",
    "print(harry.salary)"
   ]
  },
  {
   "cell_type": "code",
   "execution_count": 35,
   "metadata": {},
   "outputs": [
    {
     "output_type": "stream",
     "name": "stdout",
     "text": [
      "20\n"
     ]
    }
   ],
   "source": [
    "#5  Class methods\n",
    "\n",
    "class Employee:\n",
    "    leaves=12\n",
    "    def __init__(self,aname,asalary,arole): \n",
    "        self.name=aname\n",
    "        self.salary=asalary\n",
    "        self.role=arole\n",
    "\n",
    "    @classmethod\n",
    "    def changeleaves(cls,newleaves):\n",
    "        cls.leaves=newleaves\n",
    "\n",
    "\n",
    "\n",
    "harry=Employee(\"Harry\",455,\"Instructor\")\n",
    "harry.changeleaves(20)\n",
    "print(harry.leaves)\n",
    "\n",
    "\n"
   ]
  },
  {
   "cell_type": "code",
   "execution_count": 1,
   "metadata": {},
   "outputs": [],
   "source": [
    "# 52\n",
    "# Decorators\n"
   ]
  },
  {
   "cell_type": "code",
   "execution_count": null,
   "metadata": {},
   "outputs": [],
   "source": []
  }
 ]
}