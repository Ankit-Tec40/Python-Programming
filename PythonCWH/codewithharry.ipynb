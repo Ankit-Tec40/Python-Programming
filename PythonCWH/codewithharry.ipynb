{
 "metadata": {
  "language_info": {
   "codemirror_mode": {
    "name": "ipython",
    "version": 3
   },
   "file_extension": ".py",
   "mimetype": "text/x-python",
   "name": "python",
   "nbconvert_exporter": "python",
   "pygments_lexer": "ipython3",
   "version": "3.9.1-final"
  },
  "orig_nbformat": 2,
  "kernelspec": {
   "name": "python3",
   "display_name": "Python 3.9.1 64-bit",
   "metadata": {
    "interpreter": {
     "hash": "b5843a13e7131a14c3c0e364f0390d6592a995e3082c3f83420ac4385eeb2370"
    }
   }
  }
 },
 "nbformat": 4,
 "nbformat_minor": 2,
 "cells": [
  {
   "cell_type": "code",
   "execution_count": 1,
   "metadata": {},
   "outputs": [],
   "source": [
    "# local and global variable"
   ]
  },
  {
   "cell_type": "code",
   "execution_count": 8,
   "metadata": {},
   "outputs": [
    {
     "output_type": "stream",
     "name": "stdout",
     "text": [
      "30\n30\n"
     ]
    }
   ],
   "source": [
    "l=10\n",
    "def function():\n",
    "    global l\n",
    "    l=l+20\n",
    "    print (l)\n",
    "function()\n",
    "print (l)"
   ]
  },
  {
   "cell_type": "code",
   "execution_count": 9,
   "metadata": {},
   "outputs": [],
   "source": [
    "#recursion"
   ]
  },
  {
   "cell_type": "code",
   "execution_count": 13,
   "metadata": {},
   "outputs": [
    {
     "output_type": "stream",
     "name": "stdout",
     "text": [
      "5\n4\n3\n2\n"
     ]
    },
    {
     "output_type": "execute_result",
     "data": {
      "text/plain": [
       "1"
      ]
     },
     "metadata": {},
     "execution_count": 13
    }
   ],
   "source": [
    "def num(n):\n",
    "    if n==1:\n",
    "        return 1\n",
    "    else:\n",
    "        print(n)\n",
    "        return num(n-1)\n",
    "num(5)"
   ]
  },
  {
   "cell_type": "code",
   "execution_count": 21,
   "metadata": {},
   "outputs": [
    {
     "output_type": "execute_result",
     "data": {
      "text/plain": [
       "24"
      ]
     },
     "metadata": {},
     "execution_count": 21
    }
   ],
   "source": [
    "def fact(n):\n",
    "    if n==1 or n==0:\n",
    "        return 1\n",
    "    else:\n",
    "        return(n*fact(n-1))\n",
    "fact(4)"
   ]
  },
  {
   "cell_type": "code",
   "execution_count": 22,
   "metadata": {},
   "outputs": [],
   "source": [
    "#Lambda functions or anonymous function"
   ]
  },
  {
   "cell_type": "code",
   "execution_count": 23,
   "metadata": {},
   "outputs": [],
   "source": [
    "minus = lambda x,y:x-y"
   ]
  },
  {
   "cell_type": "code",
   "execution_count": 24,
   "metadata": {},
   "outputs": [
    {
     "output_type": "execute_result",
     "data": {
      "text/plain": [
       "4"
      ]
     },
     "metadata": {},
     "execution_count": 24
    }
   ],
   "source": [
    "minus(8,4)"
   ]
  },
  {
   "cell_type": "code",
   "execution_count": 26,
   "metadata": {},
   "outputs": [],
   "source": [
    "def a_first(a):\n",
    "    return a[1]"
   ]
  },
  {
   "cell_type": "code",
   "execution_count": 27,
   "metadata": {},
   "outputs": [
    {
     "output_type": "stream",
     "name": "stdout",
     "text": [
      "[[1, 4], [5, 6], [8, 9]]\n"
     ]
    }
   ],
   "source": [
    "a=[[1,4],[5,6],[8,9]]\n",
    "a.sort(key=a_first)\n",
    "print(a)"
   ]
  },
  {
   "cell_type": "code",
   "execution_count": 106,
   "metadata": {},
   "outputs": [],
   "source": [
    "# random function"
   ]
  },
  {
   "cell_type": "code",
   "execution_count": 105,
   "metadata": {},
   "outputs": [
    {
     "output_type": "execute_result",
     "data": {
      "text/plain": [
       "2541"
      ]
     },
     "metadata": {},
     "execution_count": 105
    }
   ],
   "source": [
    "import random\n",
    "# num=random.randint(1,6)\n",
    "# num=random.random()*100\n",
    "lst=[4,5,8,5,5,4,2541,4,24,42]\n",
    "num=random.choice(lst)\n",
    "num"
   ]
  },
  {
   "cell_type": "code",
   "execution_count": 107,
   "metadata": {},
   "outputs": [],
   "source": [
    "# f string   string formatting"
   ]
  },
  {
   "cell_type": "code",
   "execution_count": 108,
   "metadata": {},
   "outputs": [],
   "source": [
    "me = \"ankit\"\n",
    "a=\"my name is %s\"%me"
   ]
  },
  {
   "cell_type": "code",
   "execution_count": 109,
   "metadata": {},
   "outputs": [
    {
     "output_type": "execute_result",
     "data": {
      "text/plain": [
       "'my name is ankit'"
      ]
     },
     "metadata": {},
     "execution_count": 109
    }
   ],
   "source": [
    "a"
   ]
  },
  {
   "cell_type": "code",
   "execution_count": 117,
   "metadata": {},
   "outputs": [
    {
     "output_type": "stream",
     "name": "stdout",
     "text": [
      "this is 3 Ankit\n"
     ]
    }
   ],
   "source": [
    "me=\"Ankit\"\n",
    "al=3\n",
    "a=\"this is {1} {0}\"\n",
    "b=a.format(me,al)\n",
    "print(b)"
   ]
  },
  {
   "cell_type": "code",
   "execution_count": 118,
   "metadata": {},
   "outputs": [],
   "source": [
    "# F string   v39"
   ]
  },
  {
   "cell_type": "code",
   "execution_count": 120,
   "metadata": {},
   "outputs": [
    {
     "output_type": "stream",
     "name": "stdout",
     "text": [
      "this is Ankit 3 28 \n"
     ]
    }
   ],
   "source": [
    "a=f\"this is {me} {al} {4*7} \"   # this is f_string\n",
    "print(a)"
   ]
  },
  {
   "cell_type": "code",
   "execution_count": 121,
   "metadata": {},
   "outputs": [],
   "source": [
    "# *args and **kwargs"
   ]
  },
  {
   "cell_type": "code",
   "execution_count": 125,
   "metadata": {},
   "outputs": [
    {
     "output_type": "stream",
     "name": "stdout",
     "text": [
      "('a', 'b', 'c', 'd', 'e', 'f')\n"
     ]
    }
   ],
   "source": [
    "def printname(*args):\n",
    "    print(args)\n",
    "printname(*[\"a\",\"b\",\"c\",\"d\",\"e\",\"f\"])\n"
   ]
  },
  {
   "cell_type": "code",
   "execution_count": 131,
   "metadata": {},
   "outputs": [
    {
     "output_type": "stream",
     "name": "stdout",
     "text": [
      "5 ('a', 'b', 'c', 'd', 'e', 'f')\n500\n"
     ]
    }
   ],
   "source": [
    "def printname(n,*args,**kwargs):\n",
    "    print(n,args)\n",
    "    print(kwargs[\"ankit\"])\n",
    "printname(5,*[\"a\",\"b\",\"c\",\"d\",\"e\",\"f\"],**({\"ankit\":500,\"amit\":98}))"
   ]
  },
  {
   "cell_type": "code",
   "execution_count": 132,
   "metadata": {},
   "outputs": [],
   "source": [
    "# time module   v42"
   ]
  },
  {
   "cell_type": "code",
   "execution_count": 139,
   "metadata": {},
   "outputs": [
    {
     "output_type": "stream",
     "name": "stdout",
     "text": [
      "1615391537.3072672\n"
     ]
    }
   ],
   "source": [
    "import time\n",
    "print(time.time())"
   ]
  },
  {
   "cell_type": "code",
   "execution_count": 1,
   "metadata": {},
   "outputs": [],
   "source": [
    "# eNumarate function"
   ]
  },
  {
   "cell_type": "code",
   "execution_count": 4,
   "metadata": {},
   "outputs": [
    {
     "output_type": "stream",
     "name": "stdout",
     "text": [
      "ye a le lo\nye c le lo\nye e le lo\n"
     ]
    }
   ],
   "source": [
    "li=['a','b','c','d','e']\n",
    "for index,item in enumerate(li):\n",
    "    if index%2==0:\n",
    "        print(f\"ye {item} le lo\")\n"
   ]
  },
  {
   "cell_type": "code",
   "execution_count": 12,
   "metadata": {},
   "outputs": [],
   "source": [
    "# map,filter and reduce"
   ]
  },
  {
   "cell_type": "code",
   "execution_count": 13,
   "metadata": {},
   "outputs": [],
   "source": [
    "numbers=[\"7\",\"9\",\"10\"] # map"
   ]
  },
  {
   "cell_type": "code",
   "execution_count": 17,
   "metadata": {},
   "outputs": [
    {
     "output_type": "execute_result",
     "data": {
      "text/plain": [
       "[7, 9, 10]"
      ]
     },
     "metadata": {},
     "execution_count": 17
    }
   ],
   "source": [
    "numbers=list(map(int,numbers))\n",
    "numbers"
   ]
  },
  {
   "cell_type": "code",
   "execution_count": 19,
   "metadata": {},
   "outputs": [
    {
     "output_type": "execute_result",
     "data": {
      "text/plain": [
       "[4, 36, 9, 16, 25, 64, 49, 81]"
      ]
     },
     "metadata": {},
     "execution_count": 19
    }
   ],
   "source": [
    "num=[2,6,3,4,5,8,7,9]\n",
    "square=list(map(lambda x:x*x,num))\n",
    "square"
   ]
  },
  {
   "cell_type": "code",
   "execution_count": 22,
   "metadata": {},
   "outputs": [
    {
     "output_type": "stream",
     "name": "stdout",
     "text": [
      "[0, 0]\n[1, 1]\n[4, 8]\n[9, 27]\n[16, 64]\n"
     ]
    }
   ],
   "source": [
    "def square(a):\n",
    "    return a*a\n",
    "def cube(a):\n",
    "    return a*a*a\n",
    "num=[square,cube]\n",
    "for i in range(5):\n",
    "    val=list(map(lambda x:x(i),num))\n",
    "    print(val)"
   ]
  },
  {
   "cell_type": "code",
   "execution_count": 25,
   "metadata": {},
   "outputs": [
    {
     "output_type": "execute_result",
     "data": {
      "text/plain": [
       "[6, 7, 8, 9, 10]"
      ]
     },
     "metadata": {},
     "execution_count": 25
    }
   ],
   "source": [
    "list1=[1,2,3,4,5,6,7,8,9,10]  \n",
    "\n",
    "# using filter \n",
    "\n",
    "def greater(num):\n",
    "    return num>5\n",
    "greater=list(filter(greater,list1))\n",
    "greater"
   ]
  },
  {
   "cell_type": "code",
   "execution_count": 27,
   "metadata": {},
   "outputs": [
    {
     "output_type": "execute_result",
     "data": {
      "text/plain": [
       "18"
      ]
     },
     "metadata": {},
     "execution_count": 27
    }
   ],
   "source": [
    "# Reduce\n",
    "from functools import reduce\n",
    "\n",
    "list2=[1,5,8,4]\n",
    "sum=reduce(lambda x,y:x+y,list2)\n",
    "sum"
   ]
  },
  {
   "cell_type": "code",
   "execution_count": 28,
   "metadata": {},
   "outputs": [],
   "source": [
    "# Decorators"
   ]
  },
  {
   "cell_type": "code",
   "execution_count": 31,
   "metadata": {},
   "outputs": [
    {
     "output_type": "stream",
     "name": "stdout",
     "text": [
      "hello world\n"
     ]
    }
   ],
   "source": [
    "# here creating a copy of function\n",
    "def function1():\n",
    "    print(\"hello world\")\n",
    "function2=function1\n",
    "del function1\n",
    "function2()"
   ]
  },
  {
   "cell_type": "code",
   "execution_count": 3,
   "metadata": {},
   "outputs": [
    {
     "output_type": "stream",
     "name": "stdout",
     "text": [
      "executing now\nAnkit kumar\nexecuted\n"
     ]
    }
   ],
   "source": [
    "#decorator\n",
    "def dec1(func1):\n",
    "    def nowexec():\n",
    "        print(\"executing now\")\n",
    "        func1()\n",
    "        print(\"executed\")\n",
    "    return nowexec\n",
    "@dec1\n",
    "def name():\n",
    "    print(\"Ankit kumar\")\n",
    "name()"
   ]
  },
  {
   "cell_type": "code",
   "execution_count": null,
   "metadata": {},
   "outputs": [],
   "source": []
  }
 ]
}