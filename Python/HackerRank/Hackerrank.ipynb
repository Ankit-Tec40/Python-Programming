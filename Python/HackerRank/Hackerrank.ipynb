{
 "metadata": {
  "language_info": {
   "codemirror_mode": {
    "name": "ipython",
    "version": 3
   },
   "file_extension": ".py",
   "mimetype": "text/x-python",
   "name": "python",
   "nbconvert_exporter": "python",
   "pygments_lexer": "ipython3",
   "version": "3.9.1-final"
  },
  "orig_nbformat": 2,
  "kernelspec": {
   "name": "python3",
   "display_name": "Python 3.9.1 64-bit",
   "metadata": {
    "interpreter": {
     "hash": "b5843a13e7131a14c3c0e364f0390d6592a995e3082c3f83420ac4385eeb2370"
    }
   }
  }
 },
 "nbformat": 4,
 "nbformat_minor": 2,
 "cells": [
  {
   "cell_type": "code",
   "execution_count": 14,
   "metadata": {},
   "outputs": [
    {
     "output_type": "stream",
     "name": "stdout",
     "text": [
      "[[0, 0, 0], [0, 0, 1], [0, 0, 2], [0, 0, 3], [0, 1, 0], [0, 1, 1], [0, 1, 2], [0, 2, 0], [0, 2, 1], [0, 2, 3], [1, 0, 0], [1, 0, 1], [1, 0, 2], [1, 1, 0], [1, 1, 1], [1, 1, 3], [1, 2, 0], [1, 2, 2], [1, 2, 3]]\n"
     ]
    }
   ],
   "source": [
    "#list\n",
    "\n",
    "ls2=[]\n",
    "x=int(input())\n",
    "y=int(input())\n",
    "z=int(input())\n",
    "n=int(input())\n",
    "i=0\n",
    "j=0\n",
    "k=0\n",
    "for i in range (x+1):\n",
    "    for j in range (y+1):\n",
    "        for k in range (z+1):\n",
    "            if (i+j+k!=n):\n",
    "                ls=[]\n",
    "                ls.append(i)\n",
    "                ls.append(j)\n",
    "                ls.append(k)\n",
    "                ls2.append(ls)\n",
    "                \n",
    "print(ls2)\n",
    "\n",
    "\n",
    "\n",
    "\n"
   ]
  },
  {
   "cell_type": "code",
   "execution_count": 7,
   "metadata": {},
   "outputs": [
    {
     "output_type": "stream",
     "name": "stdout",
     "text": [
      "1\n"
     ]
    }
   ],
   "source": [
    "i=0\n",
    "n=int(input())\n",
    "if (n>=2 and n<=10):\n",
    "    lst1=input().split()\n",
    "    lst= list(map(int, lst1))\n",
    "    lst2=[]\n",
    "    for x in lst:\n",
    "        if(x>=-100 and x<=100): \n",
    "            if x not in lst2: \n",
    "                lst2.append(x)\n",
    "                lst2.sort() \n",
    "\n",
    "print(lst2[-2])\n"
   ]
  },
  {
   "cell_type": "code",
   "execution_count": 8,
   "metadata": {},
   "outputs": [],
   "source": [
    "#nested list"
   ]
  },
  {
   "cell_type": "code",
   "execution_count": 14,
   "metadata": {},
   "outputs": [
    {
     "output_type": "stream",
     "name": "stdout",
     "text": [
      "berry\nharry\ntina\n"
     ]
    }
   ],
   "source": [
    "i=0\n",
    "mainlst=[]\n",
    "namelst=[]\n",
    "gradelst=[]\n",
    "shotedgrade=[]\n",
    "result=[]\n",
    "n=int(input())\n",
    "if (n>=2 and n<=5):\n",
    "    for i in range(n):\n",
    "        lst=[]\n",
    "        name=input()\n",
    "        lst.append(name)\n",
    "        namelst.append(name)\n",
    "        grade=float(input())\n",
    "        lst.append(grade)\n",
    "        gradelst.append(grade)\n",
    "        mainlst.append(lst)\n",
    "for x in gradelst:\n",
    "    if x not in shotedgrade:\n",
    "        shotedgrade.append(x)\n",
    "        shotedgrade.sort()\n",
    "seclow=shotedgrade[1]\n",
    "for seclow in gradelst:\n",
    "    result.append(namelst[gradelst.index(seclow)])\n",
    "    gradelst.pop(gradelst.index(seclow))\n",
    "    result.sort()\n",
    "    size=len(result)\n",
    "j=0\n",
    "for i in range (size):\n",
    "    print(result[i])\n",
    "\n",
    "\n",
    "\n"
   ]
  },
  {
   "cell_type": "code",
   "execution_count": 36,
   "metadata": {},
   "outputs": [
    {
     "output_type": "stream",
     "name": "stdout",
     "text": [
      "b\nb\n"
     ]
    }
   ],
   "source": [
    "i=0\n",
    "namelst=[]\n",
    "gradelst=[]\n",
    "gradelst2=[]\n",
    "\n",
    "shotedgrade=[]\n",
    "result=[]\n",
    "n=int(input())\n",
    "if (n>=2 and n<=5):\n",
    "    for i in range(n):\n",
    "\n",
    "        name=input()\n",
    "        grade=float(input())\n",
    "\n",
    "        namelst.append(name)\n",
    "        gradelst.append(grade)\n",
    "        gradelst2.append(grade)\n",
    "\n",
    "for x in gradelst:\n",
    "    if x not in shotedgrade:\n",
    "        shotedgrade.append(x)\n",
    "        shotedgrade.sort()\n",
    "seclow=shotedgrade[1]\n",
    "for y in range(n):\n",
    "    if (gradelst2[y]==seclow):\n",
    "        result.append(namelst[y])\n",
    "        result.sort()\n",
    "        size=len(result)\n",
    "j=0\n",
    "for i in range (size):\n",
    "    print(result[i])\n"
   ]
  },
  {
   "cell_type": "code",
   "execution_count": 34,
   "metadata": {},
   "outputs": [
    {
     "output_type": "execute_result",
     "data": {
      "text/plain": [
       "[1.0, 2.0, 3.0, 4.0, 5.0]"
      ]
     },
     "metadata": {},
     "execution_count": 34
    }
   ],
   "source": [
    "gradelst"
   ]
  },
  {
   "cell_type": "code",
   "execution_count": 38,
   "metadata": {},
   "outputs": [],
   "source": [
    "#find %"
   ]
  },
  {
   "cell_type": "code",
   "execution_count": 28,
   "metadata": {},
   "outputs": [
    {
     "output_type": "error",
     "ename": "ValueError",
     "evalue": "invalid literal for int() with base 10: 'a 4 5 6'",
     "traceback": [
      "\u001b[1;31m---------------------------------------------------------------------------\u001b[0m",
      "\u001b[1;31mValueError\u001b[0m                                Traceback (most recent call last)",
      "\u001b[1;32m<ipython-input-28-5b5e7c70670d>\u001b[0m in \u001b[0;36m<module>\u001b[1;34m\u001b[0m\n\u001b[0;32m      2\u001b[0m \u001b[0mi\u001b[0m\u001b[1;33m=\u001b[0m\u001b[1;36m0\u001b[0m\u001b[1;33m\u001b[0m\u001b[1;33m\u001b[0m\u001b[0m\n\u001b[0;32m      3\u001b[0m \u001b[0mj\u001b[0m\u001b[1;33m=\u001b[0m\u001b[1;36m0\u001b[0m\u001b[1;33m\u001b[0m\u001b[1;33m\u001b[0m\u001b[0m\n\u001b[1;32m----> 4\u001b[1;33m \u001b[0mn\u001b[0m\u001b[1;33m=\u001b[0m\u001b[0mint\u001b[0m\u001b[1;33m(\u001b[0m\u001b[0minput\u001b[0m\u001b[1;33m(\u001b[0m\u001b[1;33m)\u001b[0m\u001b[1;33m)\u001b[0m\u001b[1;33m\u001b[0m\u001b[1;33m\u001b[0m\u001b[0m\n\u001b[0m\u001b[0;32m      5\u001b[0m \u001b[1;32mfor\u001b[0m \u001b[0mi\u001b[0m \u001b[1;32min\u001b[0m \u001b[0mrange\u001b[0m\u001b[1;33m(\u001b[0m\u001b[0mn\u001b[0m\u001b[1;33m)\u001b[0m\u001b[1;33m:\u001b[0m\u001b[1;33m\u001b[0m\u001b[1;33m\u001b[0m\u001b[0m\n\u001b[0;32m      6\u001b[0m     \u001b[0mname\u001b[0m\u001b[1;33m=\u001b[0m\u001b[0minput\u001b[0m\u001b[1;33m(\u001b[0m\u001b[1;33m)\u001b[0m\u001b[1;33m\u001b[0m\u001b[1;33m\u001b[0m\u001b[0m\n",
      "\u001b[1;31mValueError\u001b[0m: invalid literal for int() with base 10: 'a 4 5 6'"
     ]
    }
   ],
   "source": [
    "dic={}\n",
    "i=0\n",
    "j=0\n",
    "n=int(input())\n",
    "for i in range(n):\n",
    "    name=input()\n",
    "    markslst=[]\n",
    "    name,sub1,sub2,sub3=input().split()\n",
    "    sub11=float(sub1)\n",
    "    sub21=float(sub2)\n",
    "    sub31=float(sub3)\n",
    "    markslst.append(sub11)\n",
    "    markslst.append(sub21)\n",
    "    markslst.append(sub31)\n",
    "dic[name]=markslst\n",
    "reqname=input()\n",
    "print((sum(dic[reqname]))/3)\n",
    "\n",
    "\n",
    "\n"
   ]
  },
  {
   "cell_type": "code",
   "execution_count": 42,
   "metadata": {},
   "outputs": [
    {
     "output_type": "stream",
     "name": "stdout",
     "text": [
      "5.0\n"
     ]
    }
   ],
   "source": [
    "i=0\n",
    "dic={}\n",
    "n=int(input())\n",
    "for i in range(n):\n",
    "    markslst=[]  \n",
    "    name,sub1,sub2,sub3=input().split()\n",
    "    sub11=float(sub1)\n",
    "    sub21=float(sub2)\n",
    "    sub31=float(sub3)\n",
    "    markslst.append(sub11)\n",
    "    markslst.append(sub21)\n",
    "    markslst.append(sub31)\n",
    "    dic[name]=markslst\n",
    "reqname=input()\n",
    "avg=(sum(dic[reqname]))/3\n",
    "print(\"%.2f\" % avg)\n"
   ]
  },
  {
   "cell_type": "code",
   "execution_count": 43,
   "metadata": {},
   "outputs": [
    {
     "output_type": "execute_result",
     "data": {
      "text/plain": [
       "{'a': [1, 2, 3], 'b': [4, 5, 6]}"
      ]
     },
     "metadata": {},
     "execution_count": 43
    }
   ],
   "source": [
    "dic"
   ]
  },
  {
   "cell_type": "code",
   "execution_count": null,
   "metadata": {},
   "outputs": [],
   "source": []
  }
 ]
}