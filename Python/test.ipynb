{
 "metadata": {
  "language_info": {
   "codemirror_mode": {
    "name": "ipython",
    "version": 3
   },
   "file_extension": ".py",
   "mimetype": "text/x-python",
   "name": "python",
   "nbconvert_exporter": "python",
   "pygments_lexer": "ipython3",
   "version": "3.9.1-final"
  },
  "orig_nbformat": 2,
  "kernelspec": {
   "name": "python3",
   "display_name": "Python 3.9.1 64-bit",
   "metadata": {
    "interpreter": {
     "hash": "b5843a13e7131a14c3c0e364f0390d6592a995e3082c3f83420ac4385eeb2370"
    }
   }
  }
 },
 "nbformat": 4,
 "nbformat_minor": 2,
 "cells": [
  {
   "cell_type": "code",
   "execution_count": 23,
   "metadata": {},
   "outputs": [
    {
     "output_type": "stream",
     "name": "stdout",
     "text": [
      "1\n"
     ]
    }
   ],
   "source": [
    "T=int(input())\n",
    "if (T>=1 and T<=100000):\n",
    "    i=0\n",
    "    for i in range(T):\n",
    "        N,K=input().split(  )\n",
    "        a=int(N)\n",
    "        b=int(K)\n",
    "        if (a>=1 and a<=100000 and b>=1 and b<=1000000000):\n",
    "            x=b/a\n",
    "            y=int(x)\n",
    "            print(y)\n",
    "        i+=1\n"
   ]
  },
  {
   "cell_type": "code",
   "execution_count": null,
   "metadata": {},
   "outputs": [],
   "source": [
    "\n",
    "\n",
    "T=int(input())\n",
    "if (T>=1 and T<=100000):\n",
    "    i=0\n",
    "    for i in range(T):\n",
    "        n,k=input().split(  )\n",
    "        a=int(n)\n",
    "        b=int(k)\n",
    "        if (a>=1 and a<=100000 and b>=1 and b<=50000000):\n",
    "            x=b/a\n",
    "            y=int(x)\n",
    "        i+=1\n",
    "        \n",
    "print(y)"
   ]
  },
  {
   "cell_type": "code",
   "execution_count": null,
   "metadata": {},
   "outputs": [],
   "source": []
  }
 ]
}