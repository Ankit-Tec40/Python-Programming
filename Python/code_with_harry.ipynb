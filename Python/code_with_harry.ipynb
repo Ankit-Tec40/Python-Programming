{
 "metadata": {
  "language_info": {
   "codemirror_mode": {
    "name": "ipython",
    "version": 3
   },
   "file_extension": ".py",
   "mimetype": "text/x-python",
   "name": "python",
   "nbconvert_exporter": "python",
   "pygments_lexer": "ipython3",
   "version": "3.9.1-final"
  },
  "orig_nbformat": 2,
  "kernelspec": {
   "name": "python3",
   "display_name": "Python 3.9.1 64-bit",
   "metadata": {
    "interpreter": {
     "hash": "b5843a13e7131a14c3c0e364f0390d6592a995e3082c3f83420ac4385eeb2370"
    }
   }
  }
 },
 "nbformat": 4,
 "nbformat_minor": 2,
 "cells": [
  {
   "cell_type": "code",
   "execution_count": 12,
   "metadata": {},
   "outputs": [
    {
     "output_type": "stream",
     "name": "stdout",
     "text": [
      "hlo\n\n5\nhow\n\nhlo\n\n5\n"
     ]
    }
   ],
   "source": [
    "f=open(\"test.txt\")\n",
    "print(f.readline())\n",
    "print(f.tell())\n",
    "print(f.readline())\n",
    "f.seek(0)\n",
    "print(f.readline())\n",
    "print(f.tell())\n",
    "f.close()"
   ]
  },
  {
   "cell_type": "code",
   "execution_count": 13,
   "metadata": {},
   "outputs": [
    {
     "output_type": "stream",
     "name": "stdout",
     "text": [
      "['hlo\\n', 'how\\n', 'are\\n', 'you\\n', 'haha']\n"
     ]
    }
   ],
   "source": [
    "f=open(\"test.txt\")\n",
    "print(f.readlines())\n",
    "f.close()"
   ]
  },
  {
   "cell_type": "code",
   "execution_count": 19,
   "metadata": {},
   "outputs": [
    {
     "output_type": "stream",
     "name": "stdout",
     "text": [
      "hlo\nhow\nare\nyou\nhaha\n"
     ]
    }
   ],
   "source": [
    "with open(\"test.txt\") as f:\n",
    "    a=f.read()\n",
    "    print(a)\n"
   ]
  },
  {
   "cell_type": "code",
   "execution_count": 20,
   "metadata": {},
   "outputs": [],
   "source": [
    "#exercise 5-Heaalth management system\n",
    "\n",
    " "
   ]
  },
  {
   "cell_type": "code",
   "execution_count": 27,
   "metadata": {},
   "outputs": [
    {
     "output_type": "stream",
     "name": "stdout",
     "text": [
      "12 hello hi\n"
     ]
    }
   ],
   "source": [
    "l=10\n",
    "def fun1(n):\n",
    "    global l\n",
    "    l=l+2\n",
    "    print(l,n,\"hi\")\n",
    "fun1(\"hello\")\n"
   ]
  },
  {
   "cell_type": "code",
   "execution_count": 29,
   "metadata": {},
   "outputs": [
    {
     "output_type": "execute_result",
     "data": {
      "text/plain": [
       "120"
      ]
     },
     "metadata": {},
     "execution_count": 29
    }
   ],
   "source": [
    "def factorial(n): #iterative approach\n",
    "    fact=1\n",
    "    for i in range (n):\n",
    "        fact=fact*(i+1)\n",
    "    return fact\n",
    "num=int(input(\"Enter number\"))\n",
    "factorial(num)\n"
   ]
  },
  {
   "cell_type": "code",
   "execution_count": 32,
   "metadata": {},
   "outputs": [
    {
     "output_type": "stream",
     "name": "stdout",
     "text": [
      "factorial is: 120\n"
     ]
    }
   ],
   "source": [
    "def factorial(n): #recursive approach\n",
    "    if n==1:\n",
    "        return 1\n",
    "    else:\n",
    "        return n*factorial(n-1)\n",
    "num=int(input(\"Enter number\"))\n",
    "print(\"factorial is:\" ,factorial(num))"
   ]
  },
  {
   "cell_type": "code",
   "execution_count": 36,
   "metadata": {},
   "outputs": [
    {
     "output_type": "stream",
     "name": "stdout",
     "text": [
      "fibonacci is: 13\n"
     ]
    }
   ],
   "source": [
    "#34_quiz-fibonnachi sequence-0,1,1,2,3,5,8,13------\n",
    "def fibonacci(n):\n",
    "    if n==1:\n",
    "        return 0\n",
    "    elif n==2:\n",
    "        return 1\n",
    "    else:\n",
    "        return fibonacci(n-1)+fibonacci(n-2)\n",
    "\n",
    "num=int(input(\"Enter number\"))\n",
    "print(\"fibonacci is:\" ,fibonacci(num))\n"
   ]
  },
  {
   "cell_type": "code",
   "execution_count": 1,
   "metadata": {},
   "outputs": [
    {
     "output_type": "stream",
     "name": "stdout",
     "text": [
      "5\n"
     ]
    }
   ],
   "source": [
    "#36_lembda\n",
    "minus=lambda x,y:x-y\n",
    "print(minus(9,4))\n"
   ]
  },
  {
   "cell_type": "code",
   "execution_count": 1,
   "metadata": {},
   "outputs": [
    {
     "output_type": "execute_result",
     "data": {
      "text/plain": [
       "42"
      ]
     },
     "metadata": {},
     "execution_count": 1
    }
   ],
   "source": [
    "42"
   ]
  }
 ]
}