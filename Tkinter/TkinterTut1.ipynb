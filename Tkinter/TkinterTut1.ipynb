{
 "cells": [
  {
   "cell_type": "markdown",
   "source": [
    "### Tkinter"
   ],
   "metadata": {}
  },
  {
   "cell_type": "code",
   "execution_count": 3,
   "source": [
    "from tkinter import *"
   ],
   "outputs": [],
   "metadata": {}
  },
  {
   "cell_type": "code",
   "execution_count": 4,
   "source": [
    "root=Tk()\r\n",
    "\r\n",
    "root.mainloop()"
   ],
   "outputs": [],
   "metadata": {}
  },
  {
   "cell_type": "code",
   "execution_count": 18,
   "source": [
    "root=Tk()\r\n",
    "\r\n",
    "root.geometry(\"444x234\") # w*h //gives geometry of window\r\n",
    "root.minsize(200,100)  # width,height\r\n",
    "root.maxsize(500,500)  # loke size of window\r\n",
    "\r\n",
    "labl=Label(text=\"Ankit\")\r\n",
    "labl.pack()\r\n",
    "\r\n",
    "root.mainloop()"
   ],
   "outputs": [],
   "metadata": {}
  },
  {
   "cell_type": "code",
   "execution_count": 25,
   "source": [
    "root=Tk()\r\n",
    "root.geometry(\"500x500\")\r\n",
    "photo=PhotoImage(file=\"image.png\")\r\n",
    "lbl=Label(image=photo)\r\n",
    "lbl.pack()\r\n",
    "root.mainloop()"
   ],
   "outputs": [],
   "metadata": {}
  },
  {
   "cell_type": "markdown",
   "source": [
    "### * Important Label options  \r\n",
    "text-adds the text  \r\n",
    "bd-background  \r\n",
    "fg-foreground  \r\n",
    "font-set font  \r\n",
    "padx-x padding  \r\n",
    "pady-y padding \r\n",
    "relief-border styling-SUNKEN,RAISED,GROOVE,RIDGE  \r\n",
    "\r\n",
    "### * Important Pack options  \r\n",
    "anchor=nw,ew  \r\n",
    "side=top,buttom \r\n",
    "\r\n"
   ],
   "metadata": {}
  },
  {
   "cell_type": "code",
   "execution_count": 5,
   "source": [
    "root=Tk()\r\n",
    "root.geometry(\"500x500\")\r\n",
    "root.title(\"Tkinter Tutorial\")\r\n",
    "lbl=Label(text='''A tree data structure is defined as a \\n \r\n",
    "collection of objects or entities known as nodes \\n \r\n",
    "that are linked together to represent or simulate hierarchy. \\n  \r\n",
    "A tree data structure is a non-linear data structure because it does not \\n \r\n",
    "store in a sequential manner. It is a hierarchical structure as \\n \r\n",
    "elements in a Tree are arranged in multiple levels''',\r\n",
    "bg=\"green\",fg=\"red\",padx=23,\r\n",
    "pady=40,font=(\"comicsansms\",19,\"bold\"),\r\n",
    "borderwidth=3,relief=SUNKEN)\r\n",
    "\r\n",
    "lbl.pack(side=\"left\",fill=Y)\r\n",
    "root.mainloop()"
   ],
   "outputs": [],
   "metadata": {}
  },
  {
   "cell_type": "code",
   "execution_count": null,
   "source": [
    "#challenge\r\n",
    "# create newspaper"
   ],
   "outputs": [],
   "metadata": {}
  },
  {
   "cell_type": "code",
   "execution_count": 104,
   "source": [
    "root=Tk()\r\n",
    "root.geometry(\"1080x720\")\r\n",
    "root.title(\"Tkinter Tutorial\")\r\n",
    "\r\n",
    "root.mainloop()"
   ],
   "outputs": [],
   "metadata": {}
  },
  {
   "cell_type": "code",
   "execution_count": 106,
   "source": [
    "root=Tk()\r\n",
    "root.geometry(\"1080x720\")\r\n",
    "root.title(\"Tkinter Tutorial\")\r\n",
    "\r\n",
    "f1=Frame(root,bg=\"grey\",borderwidth=10,relief=SUNKEN)\r\n",
    "f1.pack(side=LEFT,fill=\"y\")\r\n",
    "\r\n",
    "f2=Frame(root,borderwidth=9,bg=\"grey\",relief=SUNKEN)\r\n",
    "f2.pack(side=\"top\",fill=\"x\")\r\n",
    "\r\n",
    "l=Label(f1,text=\"Project-Tkinter - pycharm\")\r\n",
    "l.pack(pady=142)\r\n",
    "\r\n",
    "l2=Label(f2,text=\"Welcome to notepad pro\")\r\n",
    "l2.pack()\r\n",
    "\r\n",
    "root.mainloop()"
   ],
   "outputs": [],
   "metadata": {}
  },
  {
   "cell_type": "code",
   "execution_count": 7,
   "source": [
    "def hello():\r\n",
    "    print(\"buttom is pressed\")"
   ],
   "outputs": [],
   "metadata": {}
  },
  {
   "cell_type": "code",
   "execution_count": 8,
   "source": [
    "root=Tk()\r\n",
    "root.geometry(\"1080x720\")\r\n",
    "root.title(\"Tkinter Tutorial\")\r\n",
    "frame=Frame(root,borderwidth=6,bg=\"grey\",relief=SUNKEN)\r\n",
    "frame.pack(side=\"left\",anchor=\"nw\")\r\n",
    "\r\n",
    "b1=Button(frame,fg=\"red\",text=\"print now\",command=hello)\r\n",
    "b1.pack(side=\"left\")\r\n",
    "b2=Button(frame,fg=\"red\",text=\"print now\")\r\n",
    "b2.pack(side=\"left\")\r\n",
    "b3=Button(frame,fg=\"red\",text=\"print now\")\r\n",
    "b3.pack(side=\"left\")\r\n",
    "b4=Button(frame,fg=\"red\",text=\"print now\")\r\n",
    "b4.pack(side=\"left\")\r\n",
    "\r\n",
    "root.mainloop()"
   ],
   "outputs": [
    {
     "output_type": "stream",
     "name": "stdout",
     "text": [
      "buttom is pressed\n",
      "buttom is pressed\n"
     ]
    }
   ],
   "metadata": {}
  },
  {
   "cell_type": "markdown",
   "source": [
    "variable classes in tkinter\r\n",
    "boolean var,double var,int var,string var"
   ],
   "metadata": {}
  },
  {
   "cell_type": "code",
   "execution_count": 10,
   "source": [
    "root=Tk()\r\n",
    "root.geometry(\"1080x720\")\r\n",
    "root.title(\"Tkinter Tutorial\")\r\n",
    "\r\n",
    "user=Label(root,text=\"username\")\r\n",
    "password=Label(root,text=\"password\")\r\n",
    "user.grid()\r\n",
    "password.grid(row=1)\r\n",
    "\r\n",
    "uservalue=StringVar()\r\n",
    "passvalue= StringVar()\r\n",
    "\r\n",
    "root.mainloop()"
   ],
   "outputs": [],
   "metadata": {}
  }
 ],
 "metadata": {
  "orig_nbformat": 4,
  "language_info": {
   "name": "python"
  }
 },
 "nbformat": 4,
 "nbformat_minor": 2
}