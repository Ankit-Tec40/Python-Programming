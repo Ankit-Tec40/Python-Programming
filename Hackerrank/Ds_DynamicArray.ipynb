{
 "metadata": {
  "language_info": {
   "codemirror_mode": {
    "name": "ipython",
    "version": 3
   },
   "file_extension": ".py",
   "mimetype": "text/x-python",
   "name": "python",
   "nbconvert_exporter": "python",
   "pygments_lexer": "ipython3",
   "version": "3.9.1"
  },
  "orig_nbformat": 2,
  "kernelspec": {
   "name": "python391jvsc74a57bd0b5843a13e7131a14c3c0e364f0390d6592a995e3082c3f83420ac4385eeb2370",
   "display_name": "Python 3.9.1 64-bit"
  },
  "metadata": {
   "interpreter": {
    "hash": "b5843a13e7131a14c3c0e364f0390d6592a995e3082c3f83420ac4385eeb2370"
   }
  }
 },
 "nbformat": 4,
 "nbformat_minor": 2,
 "cells": [
  {
   "cell_type": "code",
   "execution_count": 4,
   "metadata": {},
   "outputs": [],
   "source": [
    "def dynamicArray(n, queries):   \n",
    "    arrlst=[[] for i in range(n)]\n",
    "    lastans=0\n",
    "    result=[]\n",
    "    for j in queries:\n",
    "        if j[0]==1:\n",
    "            x,y=j[1],j[2]\n",
    "            seq=(x^lastans)%n\n",
    "            arrlst[seq].append(y)\n",
    "        elif j[0]==2:\n",
    "            x,y=j[1],j[2]\n",
    "            seq=(x^lastans)%n\n",
    "            lastans=arrlst[seq][y%len(arrlst[seq])]\n",
    "            result.append(lastans)\n",
    "    return(result)\n",
    "\n",
    "\n"
   ]
  },
  {
   "cell_type": "code",
   "execution_count": 5,
   "metadata": {},
   "outputs": [
    {
     "output_type": "execute_result",
     "data": {
      "text/plain": [
       "[[], []]"
      ]
     },
     "metadata": {},
     "execution_count": 5
    }
   ],
   "source": [
    "arrlst"
   ]
  },
  {
   "cell_type": "code",
   "execution_count": null,
   "metadata": {},
   "outputs": [],
   "source": []
  }
 ]
}