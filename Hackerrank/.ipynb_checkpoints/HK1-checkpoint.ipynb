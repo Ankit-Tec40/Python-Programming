{
 "metadata": {
  "language_info": {
   "codemirror_mode": {
    "name": "ipython",
    "version": 3
   },
   "file_extension": ".py",
   "mimetype": "text/x-python",
   "name": "python",
   "nbconvert_exporter": "python",
   "pygments_lexer": "ipython3",
   "version": "3.9.1-final"
  },
  "orig_nbformat": 2,
  "kernelspec": {
   "name": "python3",
   "display_name": "Python 3.9.1 64-bit",
   "metadata": {
    "interpreter": {
     "hash": "b5843a13e7131a14c3c0e364f0390d6592a995e3082c3f83420ac4385eeb2370"
    }
   }
  }
 },
 "nbformat": 4,
 "nbformat_minor": 2,
 "cells": [
  {
   "cell_type": "code",
   "execution_count": null,
   "metadata": {},
   "outputs": [],
   "source": [
    "    N = int(input())\n",
    "    empty = []\n",
    "    conv = []\n",
    "\n",
    "    for i in range(N):\n",
    "        x = input().split()\n",
    "        empty.append(x)\n",
    "\n",
    "    for i in range(len(empty)):\n",
    "        if empty[i][0] == 'insert':\n",
    "            x = int(empty[i][1])\n",
    "            y = int(empty[i][2])\n",
    "            conv.insert(x,y)\n",
    "        elif empty[i][0] == 'print':\n",
    "            print(conv)\n",
    "        elif empty[i][0] == 'remove':\n",
    "            conv.remove(int(empty[i][1]))\n",
    "        elif empty[i][0] == 'append':\n",
    "            conv.append(int(empty[i][1]))\n",
    "        elif empty[i][0] == 'sort':\n",
    "            conv.sort()\n",
    "        elif empty[i][0] == 'pop':\n",
    "            conv.pop()\n",
    "        elif empty[i][0] == 'reverse':\n",
    "            conv.reverse()\n",
    "     "
   ]
  },
  {
   "cell_type": "code",
   "execution_count": 14,
   "metadata": {},
   "outputs": [],
   "source": [
    "# if __name__ == '__main__':\n",
    "#     N = int(input())\n",
    "#     lst=[]\n",
    "#     for i in range(N):\n",
    "#         command_raw=input().split()\n",
    "#         command=command_raw[0]\n",
    "\n",
    "\n",
    "\n"
   ]
  },
  {
   "cell_type": "code",
   "execution_count": 13,
   "metadata": {},
   "outputs": [
    {
     "output_type": "stream",
     "name": "stdout",
     "text": [
      "-7813438383599366905\n"
     ]
    }
   ],
   "source": [
    "n=int(input())\n",
    "\n",
    "str=input()\n",
    "str2=str.split(\" \")\n",
    "t=tuple(map(int,str2))\n",
    "print(hash(t))\n"
   ]
  },
  {
   "cell_type": "code",
   "execution_count": 14,
   "metadata": {},
   "outputs": [
    {
     "output_type": "execute_result",
     "data": {
      "text/plain": [
       "(5,)"
      ]
     },
     "metadata": {},
     "execution_count": 14
    }
   ],
   "source": [
    "t"
   ]
  },
  {
   "cell_type": "code",
   "execution_count": 10,
   "metadata": {},
   "outputs": [
    {
     "output_type": "stream",
     "name": "stdout",
     "text": [
      "---------------------\n\n---------------------\n\n---------------------\n\n---------------------\n\n---------------------\n\n---------------------\n\n---------------------\n\n"
     ]
    }
   ],
   "source": [
    "N,M=map(int,input().split(\" \"))\n",
    "assert N>5 and N<101 and N/2>0\n",
    "assert M>15 and M<303 and M==3*N\n",
    "midline=N//2+1\n",
    "for i in range(N):\n",
    "    for j in range(M):\n",
    "        print(\"-\",end=\"\")\n",
    "    print(\"\\n\")\n",
    "\n"
   ]
  },
  {
   "cell_type": "code",
   "execution_count": 14,
   "metadata": {},
   "outputs": [
    {
     "output_type": "stream",
     "name": "stdout",
     "text": [
      "------------.|.------------\n---------.|..|..|.---------\n------.|..|..|..|..|.------\n---.|..|..|..|..|..|..|.---\n----------WELCOME----------\n---.|..|..|..|..|..|..|.---\n------.|..|..|..|..|.------\n---------.|..|..|.---------\n------------.|.------------\n"
     ]
    }
   ],
   "source": [
    "n, m = map(int,input().split())\n",
    "pattern = [('.|.'*(2*i + 1)).center(m, '-') for i in range(n//2)]\n",
    "print('\\n'.join(pattern + ['WELCOME'.center(m, '-')] + pattern[::-1]))"
   ]
  },
  {
   "cell_type": "code",
   "execution_count": 15,
   "metadata": {},
   "outputs": [
    {
     "output_type": "execute_result",
     "data": {
      "text/plain": [
       "['------------.|.------------',\n",
       " '---------.|..|..|.---------',\n",
       " '------.|..|..|..|..|.------',\n",
       " '---.|..|..|..|..|..|..|.---']"
      ]
     },
     "metadata": {},
     "execution_count": 15
    }
   ],
   "source": [
    "pattern"
   ]
  },
  {
   "cell_type": "code",
   "execution_count": 25,
   "metadata": {},
   "outputs": [
    {
     "output_type": "stream",
     "name": "stdout",
     "text": [
      "---------.|.---------\n------.|..|..|.------\n---.|..|..|..|..|.---\n-------WELCOME-------\n---.|..|..|..|..|.---\n------.|..|..|.------\n---------.|.---------\n"
     ]
    }
   ],
   "source": [
    "N=7\n",
    "M=21\n",
    "lst=[('.|.'*(2*x+1)).center(M,'-') for x in range (N//2)]\n",
    "print(\"\\n\".join(lst+['WELCOME'.center(M,'-')]+lst[::-1]))"
   ]
  },
  {
   "cell_type": "code",
   "execution_count": 23,
   "metadata": {},
   "outputs": [
    {
     "output_type": "execute_result",
     "data": {
      "text/plain": [
       "['------------.|.------------',\n",
       " '---------.|..|..|.---------',\n",
       " '------.|..|..|..|..|.------']"
      ]
     },
     "metadata": {},
     "execution_count": 23
    }
   ],
   "source": [
    "lst"
   ]
  },
  {
   "cell_type": "code",
   "execution_count": 37,
   "metadata": {},
   "outputs": [],
   "source": [
    "lst=[2*'ankit'.center(50,'-')]"
   ]
  },
  {
   "cell_type": "code",
   "execution_count": 38,
   "metadata": {},
   "outputs": [
    {
     "output_type": "execute_result",
     "data": {
      "text/plain": [
       "['----------------------ankit---------------------------------------------ankit-----------------------']"
      ]
     },
     "metadata": {},
     "execution_count": 38
    }
   ],
   "source": [
    "lst"
   ]
  },
  {
   "cell_type": "code",
   "execution_count": 76,
   "metadata": {},
   "outputs": [
    {
     "output_type": "stream",
     "name": "stdout",
     "text": [
      "          1     1     1\n          2     2    10\n          3     3    11\n          4     4   100\n          5     5   101\n          6     6   110\n          7     7   111\n         10     8  1000\n         11     9  1001\n         12     A  1010\n         13     B  1011\n         14     C  1100\n         15     D  1101\n         16     E  1110\n         17     F  1111\n         20    10 10000\n         21    11 10001\n         22    12 10010\n         23    13 10011\n         24    14 10100\n"
     ]
    }
   ],
   "source": [
    "def print_formatted(number):\n",
    "    # your code goes here\n",
    "    l=len(bin(number))-2\n",
    "    for i in range(1,number+1):\n",
    "        decmal=str(i)\n",
    "        octal=str(oct(i))[2:]\n",
    "        hexa=str(hex(i))[2:]\n",
    "        binary=str(bin(i))[2:]\n",
    "        \n",
    "        print(decmal.rjust(l,' '),octal.rjust(l,' '),hexa.upper().rjust(l,' '),binary.rjust(l,' '))\n",
    "\n",
    "if __name__ == '__main__':\n",
    "    n = int(input())\n",
    "    print_formatted(n)"
   ]
  },
  {
   "cell_type": "code",
   "execution_count": 78,
   "metadata": {},
   "outputs": [
    {
     "output_type": "error",
     "ename": "NameError",
     "evalue": "name 'decmal' is not defined",
     "traceback": [
      "\u001b[1;31m---------------------------------------------------------------------------\u001b[0m",
      "\u001b[1;31mNameError\u001b[0m                                 Traceback (most recent call last)",
      "\u001b[1;32m<ipython-input-78-359675e31183>\u001b[0m in \u001b[0;36m<module>\u001b[1;34m\u001b[0m\n\u001b[1;32m----> 1\u001b[1;33m \u001b[0mdecmal\u001b[0m\u001b[1;33m\u001b[0m\u001b[1;33m\u001b[0m\u001b[0m\n\u001b[0m",
      "\u001b[1;31mNameError\u001b[0m: name 'decmal' is not defined"
     ]
    }
   ],
   "source": [
    "decmal"
   ]
  },
  {
   "cell_type": "code",
   "execution_count": 59,
   "metadata": {},
   "outputs": [
    {
     "output_type": "stream",
     "name": "stdout",
     "text": [
      "    1     1     1     1\n    2     2     2    10\n    3     3     3    11\n    4     4     4   100\n    5     5     5   101\n    6     6     6   110\n    7     7     7   111\n    8    10     8  1000\n    9    11     9  1001\n   10    12     A  1010\n   11    13     B  1011\n   12    14     C  1100\n   13    15     D  1101\n   14    16     E  1110\n   15    17     F  1111\n   16    20    10 10000\n   17    21    11 10001\n   18    22    12 10010\n   19    23    13 10011\n   20    24    14 10100\n   21    25    15 10101\n   22    26    16 10110\n   23    27    17 10111\n   24    30    18 11000\n   25    31    19 11001\n"
     ]
    }
   ],
   "source": [
    "N = int(input())\n",
    "l = len(bin(N)) - 2\n",
    "\n",
    "for i in range(1, N + 1):\n",
    "    f = \"\"\n",
    "    for c in \"doXb\":\n",
    "        if f:\n",
    "            f += \" \"\n",
    "        f += \"{:>\" + str(l) + c + \"}\"\n",
    "    print(f.format(i, i, i, i))"
   ]
  },
  {
   "cell_type": "code",
   "execution_count": 73,
   "metadata": {},
   "outputs": [
    {
     "output_type": "stream",
     "name": "stdout",
     "text": [
      "  1  o1   1   1\n  2  o2   2  10\n  3  o3   3  11\n  4  o4   4 100\n  5  o5   5 101\n"
     ]
    }
   ],
   "source": [
    "st=int(input())\n",
    "\n",
    "w=len(bin(st)[2:])\n",
    "\n",
    "for i in range(1,st+1):\n",
    "\n",
    "    print (str(i).rjust(w,' '),str(oct(i)[1:]).rjust(w,' '),str(hex(i)[2:].upper()).rjust(w,' '),str(bin(i)[2:]).rjust(w,' '),sep=' ')"
   ]
  },
  {
   "cell_type": "code",
   "execution_count": 81,
   "metadata": {},
   "outputs": [],
   "source": [
    "str=\"ankit\"\n",
    "str=str.rjust(10,'m')"
   ]
  },
  {
   "cell_type": "code",
   "execution_count": 82,
   "metadata": {},
   "outputs": [
    {
     "output_type": "execute_result",
     "data": {
      "text/plain": [
       "'mmmmmankit'"
      ]
     },
     "metadata": {},
     "execution_count": 82
    }
   ],
   "source": [
    "str"
   ]
  },
  {
   "cell_type": "code",
   "execution_count": 101,
   "metadata": {},
   "outputs": [],
   "source": [
    "size=int(input())\n",
    "for i in range (0,size):\n",
    "    pattern=[chr(98+x)for x in range (size)]\n"
   ]
  },
  {
   "cell_type": "code",
   "execution_count": 102,
   "metadata": {},
   "outputs": [
    {
     "output_type": "execute_result",
     "data": {
      "text/plain": [
       "['b', 'c', 'd', 'e', 'f']"
      ]
     },
     "metadata": {},
     "execution_count": 102
    }
   ],
   "source": [
    "pattern"
   ]
  },
  {
   "cell_type": "code",
   "execution_count": 103,
   "metadata": {},
   "outputs": [
    {
     "output_type": "stream",
     "name": "stdout",
     "text": [
      "b\nc\nd\ne\nf\n"
     ]
    }
   ],
   "source": [
    "size=int(input())\n",
    "for i in range (0,size):\n",
    "    print(chr(98+i))"
   ]
  },
  {
   "cell_type": "code",
   "execution_count": null,
   "metadata": {},
   "outputs": [],
   "source": []
  }
 ]
}