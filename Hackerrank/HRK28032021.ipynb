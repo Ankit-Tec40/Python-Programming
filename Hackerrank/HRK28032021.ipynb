{
 "metadata": {
  "language_info": {
   "codemirror_mode": {
    "name": "ipython",
    "version": 3
   },
   "file_extension": ".py",
   "mimetype": "text/x-python",
   "name": "python",
   "nbconvert_exporter": "python",
   "pygments_lexer": "ipython3",
   "version": "3.9.1-final"
  },
  "orig_nbformat": 2,
  "kernelspec": {
   "name": "python3",
   "display_name": "Python 3.9.1 64-bit",
   "metadata": {
    "interpreter": {
     "hash": "b5843a13e7131a14c3c0e364f0390d6592a995e3082c3f83420ac4385eeb2370"
    }
   }
  }
 },
 "nbformat": 4,
 "nbformat_minor": 2,
 "cells": [
  {
   "cell_type": "code",
   "execution_count": 10,
   "metadata": {},
   "outputs": [],
   "source": [
    "n,m=map(int,input().split(\" \"))\r\n",
    "arr1=input().split(\" \")\r\n",
    "a=set(input().split(\" \"))\r\n",
    "b=set(input().split(\" \"))\r\n"
   ]
  },
  {
   "cell_type": "code",
   "execution_count": 15,
   "metadata": {},
   "outputs": [
    {
     "output_type": "stream",
     "name": "stdout",
     "text": [
      "0\n"
     ]
    }
   ],
   "source": [
    "hp=0\n",
    "for x in arr1:\n",
    "    if x in a:\n",
    "        hp=hp+1\n",
    "    elif x in b:\n",
    "        hp=hp-1\n",
    "print(hp)\n"
   ]
  },
  {
   "cell_type": "code",
   "execution_count": 33,
   "metadata": {},
   "outputs": [
    {
     "output_type": "stream",
     "name": "stdout",
     "text": [
      "0\n"
     ]
    }
   ],
   "source": [
    "n,m=int,input().split(\" \")\n",
    "arr1=input().split(\" \")\n",
    "a=set(input().split(\" \"))\n",
    "b=set(input().split(\" \"))\n",
    "print(sum([(i in a) - (i in b) for i in arr1]))"
   ]
  },
  {
   "cell_type": "code",
   "execution_count": null,
   "metadata": {},
   "outputs": [],
   "source": [
    "n=int(input())\n",
    "st=set()\n",
    "for i in range(n):\n",
    "    c=input()\n",
    "    st.add(c)\n",
    "print(len(st))"
   ]
  },
  {
   "cell_type": "code",
   "execution_count": null,
   "metadata": {},
   "outputs": [],
   "source": [
    "n=int(input())\n",
    "st=set(input().split(\" \"))\n",
    "tc=int(input())\n",
    "for i in range(tc):\n",
    "    command=input().split(\" \")\n",
    "    if command[0]=='pop':\n",
    "        try:\n",
    "            st.pop()\n",
    "        except:\n",
    "            pass\n",
    "    elif command[0]=='remove':\n",
    "        try:\n",
    "            st.remove(int(command[1]))\n",
    "        except:\n",
    "            pass\n",
    "    elif command[0]=='discard':\n",
    "        try:\n",
    "            st.discard(int(command[1]))\n",
    "        except:\n",
    "            pass\n",
    "st=map(int,st)\n",
    "print(sum(st))"
   ]
  },
  {
   "cell_type": "code",
   "execution_count": 43,
   "metadata": {},
   "outputs": [
    {
     "output_type": "error",
     "ename": "TypeError",
     "evalue": "unsupported operand type(s) for +: 'int' and 'str'",
     "traceback": [
      "\u001b[1;31m---------------------------------------------------------------------------\u001b[0m",
      "\u001b[1;31mTypeError\u001b[0m                                 Traceback (most recent call last)",
      "\u001b[1;32m<ipython-input-43-d62e3a399889>\u001b[0m in \u001b[0;36m<module>\u001b[1;34m\u001b[0m\n\u001b[0;32m      3\u001b[0m \u001b[0mtc\u001b[0m\u001b[1;33m=\u001b[0m\u001b[0mint\u001b[0m\u001b[1;33m(\u001b[0m\u001b[0minput\u001b[0m\u001b[1;33m(\u001b[0m\u001b[1;33m)\u001b[0m\u001b[1;33m)\u001b[0m\u001b[1;33m\u001b[0m\u001b[1;33m\u001b[0m\u001b[0m\n\u001b[0;32m      4\u001b[0m \u001b[0mcommands\u001b[0m\u001b[1;33m=\u001b[0m\u001b[0minput\u001b[0m\u001b[1;33m(\u001b[0m\u001b[1;33m)\u001b[0m\u001b[1;33m.\u001b[0m\u001b[0msplit\u001b[0m\u001b[1;33m(\u001b[0m\u001b[1;34m\"\\n\"\u001b[0m\u001b[1;33m)\u001b[0m\u001b[1;33m\u001b[0m\u001b[1;33m\u001b[0m\u001b[0m\n\u001b[1;32m----> 5\u001b[1;33m \u001b[0mprint\u001b[0m\u001b[1;33m(\u001b[0m\u001b[0msum\u001b[0m\u001b[1;33m(\u001b[0m\u001b[0mst\u001b[0m\u001b[1;33m)\u001b[0m\u001b[1;33m)\u001b[0m\u001b[1;33m\u001b[0m\u001b[1;33m\u001b[0m\u001b[0m\n\u001b[0m",
      "\u001b[1;31mTypeError\u001b[0m: unsupported operand type(s) for +: 'int' and 'str'"
     ]
    }
   ],
   "source": [
    "n=int(input())\n",
    "st=set(input().split(\" \"))\n",
    "tc=int(input())\n",
    "commands=input().split(\"\\n\")\n",
    "for x in commands:\n",
    "    c=x.split(\" \")\n",
    "    if c[0]=='pop':\n",
    "        st.pop()\n",
    "    elif c[0]=='remove':\n",
    "        try:\n",
    "            st.remove(c[1])\n",
    "        except:\n",
    "            pass\n",
    "    elif c[0]=='discard':\n",
    "        st.discard(c[1])\n",
    "st=map(int,st)\n",
    "print(sum(st))\n"
   ]
  },
  {
   "cell_type": "code",
   "execution_count": 1,
   "metadata": {},
   "outputs": [],
   "source": [
    "s={1,2,3,4,5,6,7,8,9}"
   ]
  },
  {
   "cell_type": "code",
   "execution_count": 3,
   "metadata": {},
   "outputs": [
    {
     "output_type": "execute_result",
     "data": {
      "text/plain": [
       "45"
      ]
     },
     "metadata": {},
     "execution_count": 3
    }
   ],
   "source": [
    "sum(s)"
   ]
  },
  {
   "cell_type": "code",
   "execution_count": null,
   "metadata": {},
   "outputs": [],
   "source": []
  }
 ]
}