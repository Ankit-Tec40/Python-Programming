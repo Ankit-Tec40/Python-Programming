{
 "cells": [
  {
   "cell_type": "code",
   "execution_count": 1,
   "source": [
    "import cv2"
   ],
   "outputs": [],
   "metadata": {}
  },
  {
   "cell_type": "code",
   "execution_count": 11,
   "source": [
    "import cv2\r\n",
    "img=cv2.imread(\"image.jpg\",0)\r\n",
    "cv2.imwrite(\"mona.jpg\",img)\r\n",
    "cv2.imshow(\"Mona\",img)\r\n",
    "cv2.waitKey(0)"
   ],
   "outputs": [
    {
     "output_type": "execute_result",
     "data": {
      "text/plain": [
       "-1"
      ]
     },
     "metadata": {},
     "execution_count": 11
    }
   ],
   "metadata": {}
  },
  {
   "cell_type": "code",
   "execution_count": 7,
   "source": [
    "img=cv2.imread(\"image.jpg\",0)\r\n",
    "h=img.shape[0]\r\n",
    "w=img.shape[1]\r\n",
    "print(h,\"*\",w)\r\n",
    "\r\n",
    "bigger=cv2.resize(img,(50,50))\r\n",
    "cv2.imshow(\"Mona\",bigger)\r\n",
    "cv2.waitKey(0)\r\n",
    "\r\n",
    "# cv2.imshow(\"Mona\",img)\r\n",
    "# cv2.waitKey(0)"
   ],
   "outputs": [
    {
     "output_type": "stream",
     "name": "stdout",
     "text": [
      "900 * 691\n"
     ]
    },
    {
     "output_type": "execute_result",
     "data": {
      "text/plain": [
       "-1"
      ]
     },
     "metadata": {},
     "execution_count": 7
    }
   ],
   "metadata": {}
  },
  {
   "cell_type": "code",
   "execution_count": null,
   "source": [],
   "outputs": [],
   "metadata": {}
  }
 ],
 "metadata": {
  "orig_nbformat": 4,
  "language_info": {
   "name": "python",
   "version": "3.9.5",
   "mimetype": "text/x-python",
   "codemirror_mode": {
    "name": "ipython",
    "version": 3
   },
   "pygments_lexer": "ipython3",
   "nbconvert_exporter": "python",
   "file_extension": ".py"
  },
  "kernelspec": {
   "name": "python3",
   "display_name": "Python 3.9.5 64-bit"
  },
  "interpreter": {
   "hash": "9552b8190f63102abce783a036fdab59c8fbd44b305ff071c472b263e7af8b3a"
  }
 },
 "nbformat": 4,
 "nbformat_minor": 2
}