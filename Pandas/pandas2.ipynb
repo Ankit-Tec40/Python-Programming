{
 "metadata": {
  "language_info": {
   "codemirror_mode": {
    "name": "ipython",
    "version": 3
   },
   "file_extension": ".py",
   "mimetype": "text/x-python",
   "name": "python",
   "nbconvert_exporter": "python",
   "pygments_lexer": "ipython3",
   "version": "3.9.1-final"
  },
  "orig_nbformat": 2,
  "kernelspec": {
   "name": "python3",
   "display_name": "Python 3.9.1 64-bit",
   "metadata": {
    "interpreter": {
     "hash": "b5843a13e7131a14c3c0e364f0390d6592a995e3082c3f83420ac4385eeb2370"
    }
   }
  }
 },
 "nbformat": 4,
 "nbformat_minor": 2,
 "cells": [
  {
   "cell_type": "code",
   "execution_count": 2,
   "metadata": {},
   "outputs": [],
   "source": [
    "import pandas as pd\n",
    "import numpy as np"
   ]
  },
  {
   "cell_type": "code",
   "execution_count": 6,
   "metadata": {},
   "outputs": [],
   "source": [
    "ser=pd.Series(np.random.rand(34))"
   ]
  },
  {
   "cell_type": "code",
   "execution_count": 7,
   "metadata": {},
   "outputs": [
    {
     "output_type": "execute_result",
     "data": {
      "text/plain": [
       "0     0.413900\n",
       "1     0.875125\n",
       "2     0.177503\n",
       "3     0.259720\n",
       "4     0.267127\n",
       "5     0.950239\n",
       "6     0.422064\n",
       "7     0.569732\n",
       "8     0.918343\n",
       "9     0.611301\n",
       "10    0.388470\n",
       "11    0.659419\n",
       "12    0.762492\n",
       "13    0.377975\n",
       "14    0.485102\n",
       "15    0.081683\n",
       "16    0.091591\n",
       "17    0.560800\n",
       "18    0.884016\n",
       "19    0.099825\n",
       "20    0.227607\n",
       "21    0.246983\n",
       "22    0.277830\n",
       "23    0.217295\n",
       "24    0.138961\n",
       "25    0.772029\n",
       "26    0.630817\n",
       "27    0.035072\n",
       "28    0.706468\n",
       "29    0.782084\n",
       "30    0.539809\n",
       "31    0.912123\n",
       "32    0.747491\n",
       "33    0.976481\n",
       "dtype: float64"
      ]
     },
     "metadata": {},
     "execution_count": 7
    }
   ],
   "source": [
    "ser"
   ]
  },
  {
   "cell_type": "code",
   "execution_count": 8,
   "metadata": {},
   "outputs": [
    {
     "output_type": "execute_result",
     "data": {
      "text/plain": [
       "pandas.core.series.Series"
      ]
     },
     "metadata": {},
     "execution_count": 8
    }
   ],
   "source": [
    "type(ser)"
   ]
  },
  {
   "cell_type": "code",
   "execution_count": 10,
   "metadata": {},
   "outputs": [],
   "source": [
    "newdf=pd.DataFrame(np.random.rand(334,5),index=np.arange(334))"
   ]
  },
  {
   "cell_type": "code",
   "execution_count": 13,
   "metadata": {},
   "outputs": [
    {
     "output_type": "execute_result",
     "data": {
      "text/plain": [
       "            0         1         2         3         4\n",
       "0    0.762745  0.471321  0.601230  0.903279  0.527350\n",
       "1    0.536596  0.304414  0.023738  0.476616  0.212659\n",
       "2    0.651976  0.135305  0.186230  0.522633  0.123873\n",
       "3    0.932657  0.856253  0.276943  0.550365  0.803544\n",
       "4    0.444199  0.452174  0.284133  0.192204  0.930844\n",
       "..        ...       ...       ...       ...       ...\n",
       "329  0.982911  0.834296  0.063858  0.658507  0.967162\n",
       "330  0.940048  0.666307  0.184197  0.554276  0.857182\n",
       "331  0.852085  0.535929  0.254301  0.810494  0.422246\n",
       "332  0.577300  0.216600  0.516643  0.895405  0.867340\n",
       "333  0.092103  0.855859  0.962292  0.073831  0.833467\n",
       "\n",
       "[334 rows x 5 columns]"
      ],
      "text/html": "<div>\n<style scoped>\n    .dataframe tbody tr th:only-of-type {\n        vertical-align: middle;\n    }\n\n    .dataframe tbody tr th {\n        vertical-align: top;\n    }\n\n    .dataframe thead th {\n        text-align: right;\n    }\n</style>\n<table border=\"1\" class=\"dataframe\">\n  <thead>\n    <tr style=\"text-align: right;\">\n      <th></th>\n      <th>0</th>\n      <th>1</th>\n      <th>2</th>\n      <th>3</th>\n      <th>4</th>\n    </tr>\n  </thead>\n  <tbody>\n    <tr>\n      <th>0</th>\n      <td>0.762745</td>\n      <td>0.471321</td>\n      <td>0.601230</td>\n      <td>0.903279</td>\n      <td>0.527350</td>\n    </tr>\n    <tr>\n      <th>1</th>\n      <td>0.536596</td>\n      <td>0.304414</td>\n      <td>0.023738</td>\n      <td>0.476616</td>\n      <td>0.212659</td>\n    </tr>\n    <tr>\n      <th>2</th>\n      <td>0.651976</td>\n      <td>0.135305</td>\n      <td>0.186230</td>\n      <td>0.522633</td>\n      <td>0.123873</td>\n    </tr>\n    <tr>\n      <th>3</th>\n      <td>0.932657</td>\n      <td>0.856253</td>\n      <td>0.276943</td>\n      <td>0.550365</td>\n      <td>0.803544</td>\n    </tr>\n    <tr>\n      <th>4</th>\n      <td>0.444199</td>\n      <td>0.452174</td>\n      <td>0.284133</td>\n      <td>0.192204</td>\n      <td>0.930844</td>\n    </tr>\n    <tr>\n      <th>...</th>\n      <td>...</td>\n      <td>...</td>\n      <td>...</td>\n      <td>...</td>\n      <td>...</td>\n    </tr>\n    <tr>\n      <th>329</th>\n      <td>0.982911</td>\n      <td>0.834296</td>\n      <td>0.063858</td>\n      <td>0.658507</td>\n      <td>0.967162</td>\n    </tr>\n    <tr>\n      <th>330</th>\n      <td>0.940048</td>\n      <td>0.666307</td>\n      <td>0.184197</td>\n      <td>0.554276</td>\n      <td>0.857182</td>\n    </tr>\n    <tr>\n      <th>331</th>\n      <td>0.852085</td>\n      <td>0.535929</td>\n      <td>0.254301</td>\n      <td>0.810494</td>\n      <td>0.422246</td>\n    </tr>\n    <tr>\n      <th>332</th>\n      <td>0.577300</td>\n      <td>0.216600</td>\n      <td>0.516643</td>\n      <td>0.895405</td>\n      <td>0.867340</td>\n    </tr>\n    <tr>\n      <th>333</th>\n      <td>0.092103</td>\n      <td>0.855859</td>\n      <td>0.962292</td>\n      <td>0.073831</td>\n      <td>0.833467</td>\n    </tr>\n  </tbody>\n</table>\n<p>334 rows × 5 columns</p>\n</div>"
     },
     "metadata": {},
     "execution_count": 13
    }
   ],
   "source": [
    "newdf"
   ]
  },
  {
   "cell_type": "code",
   "execution_count": 14,
   "metadata": {},
   "outputs": [
    {
     "output_type": "execute_result",
     "data": {
      "text/plain": [
       "pandas.core.frame.DataFrame"
      ]
     },
     "metadata": {},
     "execution_count": 14
    }
   ],
   "source": [
    "type(newdf)"
   ]
  },
  {
   "cell_type": "code",
   "execution_count": 15,
   "metadata": {},
   "outputs": [
    {
     "output_type": "execute_result",
     "data": {
      "text/plain": [
       "                0           1           2           3           4\n",
       "count  334.000000  334.000000  334.000000  334.000000  334.000000\n",
       "mean     0.527226    0.499037    0.467515    0.519441    0.513256\n",
       "std      0.290359    0.290431    0.294398    0.298998    0.281076\n",
       "min      0.002253    0.001158    0.003074    0.006529    0.007677\n",
       "25%      0.260476    0.239801    0.218651    0.252812    0.288510\n",
       "50%      0.548757    0.497920    0.433533    0.542921    0.523398\n",
       "75%      0.783835    0.767286    0.714105    0.778962    0.757293\n",
       "max      0.999165    0.999655    0.998786    0.999915    0.998871"
      ],
      "text/html": "<div>\n<style scoped>\n    .dataframe tbody tr th:only-of-type {\n        vertical-align: middle;\n    }\n\n    .dataframe tbody tr th {\n        vertical-align: top;\n    }\n\n    .dataframe thead th {\n        text-align: right;\n    }\n</style>\n<table border=\"1\" class=\"dataframe\">\n  <thead>\n    <tr style=\"text-align: right;\">\n      <th></th>\n      <th>0</th>\n      <th>1</th>\n      <th>2</th>\n      <th>3</th>\n      <th>4</th>\n    </tr>\n  </thead>\n  <tbody>\n    <tr>\n      <th>count</th>\n      <td>334.000000</td>\n      <td>334.000000</td>\n      <td>334.000000</td>\n      <td>334.000000</td>\n      <td>334.000000</td>\n    </tr>\n    <tr>\n      <th>mean</th>\n      <td>0.527226</td>\n      <td>0.499037</td>\n      <td>0.467515</td>\n      <td>0.519441</td>\n      <td>0.513256</td>\n    </tr>\n    <tr>\n      <th>std</th>\n      <td>0.290359</td>\n      <td>0.290431</td>\n      <td>0.294398</td>\n      <td>0.298998</td>\n      <td>0.281076</td>\n    </tr>\n    <tr>\n      <th>min</th>\n      <td>0.002253</td>\n      <td>0.001158</td>\n      <td>0.003074</td>\n      <td>0.006529</td>\n      <td>0.007677</td>\n    </tr>\n    <tr>\n      <th>25%</th>\n      <td>0.260476</td>\n      <td>0.239801</td>\n      <td>0.218651</td>\n      <td>0.252812</td>\n      <td>0.288510</td>\n    </tr>\n    <tr>\n      <th>50%</th>\n      <td>0.548757</td>\n      <td>0.497920</td>\n      <td>0.433533</td>\n      <td>0.542921</td>\n      <td>0.523398</td>\n    </tr>\n    <tr>\n      <th>75%</th>\n      <td>0.783835</td>\n      <td>0.767286</td>\n      <td>0.714105</td>\n      <td>0.778962</td>\n      <td>0.757293</td>\n    </tr>\n    <tr>\n      <th>max</th>\n      <td>0.999165</td>\n      <td>0.999655</td>\n      <td>0.998786</td>\n      <td>0.999915</td>\n      <td>0.998871</td>\n    </tr>\n  </tbody>\n</table>\n</div>"
     },
     "metadata": {},
     "execution_count": 15
    }
   ],
   "source": [
    "newdf.describe()"
   ]
  },
  {
   "cell_type": "code",
   "execution_count": 22,
   "metadata": {},
   "outputs": [
    {
     "output_type": "execute_result",
     "data": {
      "text/plain": [
       "0    float64\n",
       "1    float64\n",
       "2    float64\n",
       "3    float64\n",
       "4    float64\n",
       "dtype: object"
      ]
     },
     "metadata": {},
     "execution_count": 22
    }
   ],
   "source": [
    "newdf.dtypes"
   ]
  },
  {
   "cell_type": "code",
   "execution_count": 31,
   "metadata": {},
   "outputs": [
    {
     "output_type": "execute_result",
     "data": {
      "text/plain": [
       "          0         1         2         3         4\n",
       "0       0.3  0.471321  0.601230  0.903279  0.527350\n",
       "1  0.536596  0.304414  0.023738  0.476616  0.212659\n",
       "2  0.651976  0.135305  0.186230  0.522633  0.123873\n",
       "3  0.932657  0.856253  0.276943  0.550365  0.803544\n",
       "4  0.444199  0.452174  0.284133  0.192204  0.930844"
      ],
      "text/html": "<div>\n<style scoped>\n    .dataframe tbody tr th:only-of-type {\n        vertical-align: middle;\n    }\n\n    .dataframe tbody tr th {\n        vertical-align: top;\n    }\n\n    .dataframe thead th {\n        text-align: right;\n    }\n</style>\n<table border=\"1\" class=\"dataframe\">\n  <thead>\n    <tr style=\"text-align: right;\">\n      <th></th>\n      <th>0</th>\n      <th>1</th>\n      <th>2</th>\n      <th>3</th>\n      <th>4</th>\n    </tr>\n  </thead>\n  <tbody>\n    <tr>\n      <th>0</th>\n      <td>0.3</td>\n      <td>0.471321</td>\n      <td>0.601230</td>\n      <td>0.903279</td>\n      <td>0.527350</td>\n    </tr>\n    <tr>\n      <th>1</th>\n      <td>0.536596</td>\n      <td>0.304414</td>\n      <td>0.023738</td>\n      <td>0.476616</td>\n      <td>0.212659</td>\n    </tr>\n    <tr>\n      <th>2</th>\n      <td>0.651976</td>\n      <td>0.135305</td>\n      <td>0.186230</td>\n      <td>0.522633</td>\n      <td>0.123873</td>\n    </tr>\n    <tr>\n      <th>3</th>\n      <td>0.932657</td>\n      <td>0.856253</td>\n      <td>0.276943</td>\n      <td>0.550365</td>\n      <td>0.803544</td>\n    </tr>\n    <tr>\n      <th>4</th>\n      <td>0.444199</td>\n      <td>0.452174</td>\n      <td>0.284133</td>\n      <td>0.192204</td>\n      <td>0.930844</td>\n    </tr>\n  </tbody>\n</table>\n</div>"
     },
     "metadata": {},
     "execution_count": 31
    }
   ],
   "source": [
    "newdf.head()"
   ]
  },
  {
   "cell_type": "code",
   "execution_count": 30,
   "metadata": {},
   "outputs": [
    {
     "output_type": "stream",
     "name": "stderr",
     "text": [
      "<ipython-input-30-eac6c0129347>:1: SettingWithCopyWarning: \nA value is trying to be set on a copy of a slice from a DataFrame\n\nSee the caveats in the documentation: https://pandas.pydata.org/pandas-docs/stable/user_guide/indexing.html#returning-a-view-versus-a-copy\n  newdf[0][0]=0.3\n"
     ]
    }
   ],
   "source": [
    "newdf[0][0]=0.3"
   ]
  },
  {
   "cell_type": "code",
   "execution_count": 32,
   "metadata": {},
   "outputs": [
    {
     "output_type": "execute_result",
     "data": {
      "text/plain": [
       "          0         1         2         3         4\n",
       "0       0.3  0.471321  0.601230  0.903279  0.527350\n",
       "1  0.536596  0.304414  0.023738  0.476616  0.212659\n",
       "2  0.651976  0.135305  0.186230  0.522633  0.123873\n",
       "3  0.932657  0.856253  0.276943  0.550365  0.803544\n",
       "4  0.444199  0.452174  0.284133  0.192204  0.930844"
      ],
      "text/html": "<div>\n<style scoped>\n    .dataframe tbody tr th:only-of-type {\n        vertical-align: middle;\n    }\n\n    .dataframe tbody tr th {\n        vertical-align: top;\n    }\n\n    .dataframe thead th {\n        text-align: right;\n    }\n</style>\n<table border=\"1\" class=\"dataframe\">\n  <thead>\n    <tr style=\"text-align: right;\">\n      <th></th>\n      <th>0</th>\n      <th>1</th>\n      <th>2</th>\n      <th>3</th>\n      <th>4</th>\n    </tr>\n  </thead>\n  <tbody>\n    <tr>\n      <th>0</th>\n      <td>0.3</td>\n      <td>0.471321</td>\n      <td>0.601230</td>\n      <td>0.903279</td>\n      <td>0.527350</td>\n    </tr>\n    <tr>\n      <th>1</th>\n      <td>0.536596</td>\n      <td>0.304414</td>\n      <td>0.023738</td>\n      <td>0.476616</td>\n      <td>0.212659</td>\n    </tr>\n    <tr>\n      <th>2</th>\n      <td>0.651976</td>\n      <td>0.135305</td>\n      <td>0.186230</td>\n      <td>0.522633</td>\n      <td>0.123873</td>\n    </tr>\n    <tr>\n      <th>3</th>\n      <td>0.932657</td>\n      <td>0.856253</td>\n      <td>0.276943</td>\n      <td>0.550365</td>\n      <td>0.803544</td>\n    </tr>\n    <tr>\n      <th>4</th>\n      <td>0.444199</td>\n      <td>0.452174</td>\n      <td>0.284133</td>\n      <td>0.192204</td>\n      <td>0.930844</td>\n    </tr>\n  </tbody>\n</table>\n</div>"
     },
     "metadata": {},
     "execution_count": 32
    }
   ],
   "source": [
    "newdf.head()"
   ]
  },
  {
   "cell_type": "code",
   "execution_count": 27,
   "metadata": {},
   "outputs": [
    {
     "output_type": "execute_result",
     "data": {
      "text/plain": [
       "Int64Index([  0,   1,   2,   3,   4,   5,   6,   7,   8,   9,\n",
       "            ...\n",
       "            324, 325, 326, 327, 328, 329, 330, 331, 332, 333],\n",
       "           dtype='int64', length=334)"
      ]
     },
     "metadata": {},
     "execution_count": 27
    }
   ],
   "source": [
    "newdf.index"
   ]
  },
  {
   "cell_type": "code",
   "execution_count": 28,
   "metadata": {},
   "outputs": [
    {
     "output_type": "execute_result",
     "data": {
      "text/plain": [
       "RangeIndex(start=0, stop=5, step=1)"
      ]
     },
     "metadata": {},
     "execution_count": 28
    }
   ],
   "source": [
    "newdf.columns"
   ]
  },
  {
   "cell_type": "code",
   "execution_count": 35,
   "metadata": {},
   "outputs": [
    {
     "output_type": "execute_result",
     "data": {
      "text/plain": [
       "array([[0.3, 0.47132111944682953, 0.6012301382967348, 0.9032794633066441,\n",
       "        0.5273499774725657],\n",
       "       [0.536595901864974, 0.3044139827724517, 0.02373804867831464,\n",
       "        0.47661592205844383, 0.21265912369378748],\n",
       "       [0.6519761195712809, 0.13530477544069663, 0.18622978550905833,\n",
       "        0.5226326598374984, 0.12387289158425863],\n",
       "       ...,\n",
       "       [0.8520845164656429, 0.535928951560933, 0.25430128144398945,\n",
       "        0.8104943953243753, 0.42224580027209135],\n",
       "       [0.5772996489765058, 0.21659963508281, 0.5166432651856189,\n",
       "        0.8954045299427743, 0.8673401937757742],\n",
       "       [0.0921029526843008, 0.8558587259219506, 0.9622921545402763,\n",
       "        0.0738314552819962, 0.8334672745554705]], dtype=object)"
      ]
     },
     "metadata": {},
     "execution_count": 35
    }
   ],
   "source": [
    "newdf.to_numpy()"
   ]
  },
  {
   "cell_type": "code",
   "execution_count": 36,
   "metadata": {},
   "outputs": [
    {
     "output_type": "execute_result",
     "data": {
      "text/plain": [
       "        0         1         2         3         4         5         6    \\\n",
       "0       0.3  0.536596  0.651976  0.932657  0.444199  0.251491  0.747574   \n",
       "1  0.471321  0.304414  0.135305  0.856253  0.452174  0.565857  0.572376   \n",
       "2   0.60123  0.023738   0.18623  0.276943  0.284133  0.215634  0.365972   \n",
       "3  0.903279  0.476616  0.522633  0.550365  0.192204  0.252831  0.980377   \n",
       "4   0.52735  0.212659  0.123873  0.803544  0.930844  0.445339  0.712428   \n",
       "\n",
       "        7         8         9    ...       324       325       326       327  \\\n",
       "0  0.468137  0.270365  0.588666  ...   0.35262  0.699036  0.342712  0.309517   \n",
       "1  0.202436  0.054251  0.224653  ...  0.964644  0.968831  0.621867  0.442175   \n",
       "2  0.858523  0.157972  0.017475  ...  0.851328  0.192874  0.076907  0.276885   \n",
       "3  0.158525  0.788544  0.169793  ...   0.10172  0.339321  0.983739  0.476115   \n",
       "4  0.715594  0.037481  0.583174  ...  0.598393  0.493871  0.441096  0.258014   \n",
       "\n",
       "        328       329       330       331       332       333  \n",
       "0  0.761828  0.982911  0.940048  0.852085    0.5773  0.092103  \n",
       "1  0.639374  0.834296  0.666307  0.535929    0.2166  0.855859  \n",
       "2  0.466411  0.063858  0.184197  0.254301  0.516643  0.962292  \n",
       "3  0.933437  0.658507  0.554276  0.810494  0.895405  0.073831  \n",
       "4  0.333424  0.967162  0.857182  0.422246   0.86734  0.833467  \n",
       "\n",
       "[5 rows x 334 columns]"
      ],
      "text/html": "<div>\n<style scoped>\n    .dataframe tbody tr th:only-of-type {\n        vertical-align: middle;\n    }\n\n    .dataframe tbody tr th {\n        vertical-align: top;\n    }\n\n    .dataframe thead th {\n        text-align: right;\n    }\n</style>\n<table border=\"1\" class=\"dataframe\">\n  <thead>\n    <tr style=\"text-align: right;\">\n      <th></th>\n      <th>0</th>\n      <th>1</th>\n      <th>2</th>\n      <th>3</th>\n      <th>4</th>\n      <th>5</th>\n      <th>6</th>\n      <th>7</th>\n      <th>8</th>\n      <th>9</th>\n      <th>...</th>\n      <th>324</th>\n      <th>325</th>\n      <th>326</th>\n      <th>327</th>\n      <th>328</th>\n      <th>329</th>\n      <th>330</th>\n      <th>331</th>\n      <th>332</th>\n      <th>333</th>\n    </tr>\n  </thead>\n  <tbody>\n    <tr>\n      <th>0</th>\n      <td>0.3</td>\n      <td>0.536596</td>\n      <td>0.651976</td>\n      <td>0.932657</td>\n      <td>0.444199</td>\n      <td>0.251491</td>\n      <td>0.747574</td>\n      <td>0.468137</td>\n      <td>0.270365</td>\n      <td>0.588666</td>\n      <td>...</td>\n      <td>0.35262</td>\n      <td>0.699036</td>\n      <td>0.342712</td>\n      <td>0.309517</td>\n      <td>0.761828</td>\n      <td>0.982911</td>\n      <td>0.940048</td>\n      <td>0.852085</td>\n      <td>0.5773</td>\n      <td>0.092103</td>\n    </tr>\n    <tr>\n      <th>1</th>\n      <td>0.471321</td>\n      <td>0.304414</td>\n      <td>0.135305</td>\n      <td>0.856253</td>\n      <td>0.452174</td>\n      <td>0.565857</td>\n      <td>0.572376</td>\n      <td>0.202436</td>\n      <td>0.054251</td>\n      <td>0.224653</td>\n      <td>...</td>\n      <td>0.964644</td>\n      <td>0.968831</td>\n      <td>0.621867</td>\n      <td>0.442175</td>\n      <td>0.639374</td>\n      <td>0.834296</td>\n      <td>0.666307</td>\n      <td>0.535929</td>\n      <td>0.2166</td>\n      <td>0.855859</td>\n    </tr>\n    <tr>\n      <th>2</th>\n      <td>0.60123</td>\n      <td>0.023738</td>\n      <td>0.18623</td>\n      <td>0.276943</td>\n      <td>0.284133</td>\n      <td>0.215634</td>\n      <td>0.365972</td>\n      <td>0.858523</td>\n      <td>0.157972</td>\n      <td>0.017475</td>\n      <td>...</td>\n      <td>0.851328</td>\n      <td>0.192874</td>\n      <td>0.076907</td>\n      <td>0.276885</td>\n      <td>0.466411</td>\n      <td>0.063858</td>\n      <td>0.184197</td>\n      <td>0.254301</td>\n      <td>0.516643</td>\n      <td>0.962292</td>\n    </tr>\n    <tr>\n      <th>3</th>\n      <td>0.903279</td>\n      <td>0.476616</td>\n      <td>0.522633</td>\n      <td>0.550365</td>\n      <td>0.192204</td>\n      <td>0.252831</td>\n      <td>0.980377</td>\n      <td>0.158525</td>\n      <td>0.788544</td>\n      <td>0.169793</td>\n      <td>...</td>\n      <td>0.10172</td>\n      <td>0.339321</td>\n      <td>0.983739</td>\n      <td>0.476115</td>\n      <td>0.933437</td>\n      <td>0.658507</td>\n      <td>0.554276</td>\n      <td>0.810494</td>\n      <td>0.895405</td>\n      <td>0.073831</td>\n    </tr>\n    <tr>\n      <th>4</th>\n      <td>0.52735</td>\n      <td>0.212659</td>\n      <td>0.123873</td>\n      <td>0.803544</td>\n      <td>0.930844</td>\n      <td>0.445339</td>\n      <td>0.712428</td>\n      <td>0.715594</td>\n      <td>0.037481</td>\n      <td>0.583174</td>\n      <td>...</td>\n      <td>0.598393</td>\n      <td>0.493871</td>\n      <td>0.441096</td>\n      <td>0.258014</td>\n      <td>0.333424</td>\n      <td>0.967162</td>\n      <td>0.857182</td>\n      <td>0.422246</td>\n      <td>0.86734</td>\n      <td>0.833467</td>\n    </tr>\n  </tbody>\n</table>\n<p>5 rows × 334 columns</p>\n</div>"
     },
     "metadata": {},
     "execution_count": 36
    }
   ],
   "source": [
    "newdf.T"
   ]
  },
  {
   "cell_type": "code",
   "execution_count": 37,
   "metadata": {},
   "outputs": [
    {
     "output_type": "execute_result",
     "data": {
      "text/plain": [
       "          0         1         2         3         4\n",
       "0       0.3  0.471321  0.601230  0.903279  0.527350\n",
       "1  0.536596  0.304414  0.023738  0.476616  0.212659\n",
       "2  0.651976  0.135305  0.186230  0.522633  0.123873\n",
       "3  0.932657  0.856253  0.276943  0.550365  0.803544\n",
       "4  0.444199  0.452174  0.284133  0.192204  0.930844"
      ],
      "text/html": "<div>\n<style scoped>\n    .dataframe tbody tr th:only-of-type {\n        vertical-align: middle;\n    }\n\n    .dataframe tbody tr th {\n        vertical-align: top;\n    }\n\n    .dataframe thead th {\n        text-align: right;\n    }\n</style>\n<table border=\"1\" class=\"dataframe\">\n  <thead>\n    <tr style=\"text-align: right;\">\n      <th></th>\n      <th>0</th>\n      <th>1</th>\n      <th>2</th>\n      <th>3</th>\n      <th>4</th>\n    </tr>\n  </thead>\n  <tbody>\n    <tr>\n      <th>0</th>\n      <td>0.3</td>\n      <td>0.471321</td>\n      <td>0.601230</td>\n      <td>0.903279</td>\n      <td>0.527350</td>\n    </tr>\n    <tr>\n      <th>1</th>\n      <td>0.536596</td>\n      <td>0.304414</td>\n      <td>0.023738</td>\n      <td>0.476616</td>\n      <td>0.212659</td>\n    </tr>\n    <tr>\n      <th>2</th>\n      <td>0.651976</td>\n      <td>0.135305</td>\n      <td>0.186230</td>\n      <td>0.522633</td>\n      <td>0.123873</td>\n    </tr>\n    <tr>\n      <th>3</th>\n      <td>0.932657</td>\n      <td>0.856253</td>\n      <td>0.276943</td>\n      <td>0.550365</td>\n      <td>0.803544</td>\n    </tr>\n    <tr>\n      <th>4</th>\n      <td>0.444199</td>\n      <td>0.452174</td>\n      <td>0.284133</td>\n      <td>0.192204</td>\n      <td>0.930844</td>\n    </tr>\n  </tbody>\n</table>\n</div>"
     },
     "metadata": {},
     "execution_count": 37
    }
   ],
   "source": [
    "newdf.head()"
   ]
  },
  {
   "cell_type": "code",
   "execution_count": 40,
   "metadata": {},
   "outputs": [
    {
     "output_type": "execute_result",
     "data": {
      "text/plain": [
       "            0         1         2         3         4\n",
       "333  0.092103  0.855859  0.962292  0.073831  0.833467\n",
       "332    0.5773  0.216600  0.516643  0.895405  0.867340\n",
       "331  0.852085  0.535929  0.254301  0.810494  0.422246\n",
       "330  0.940048  0.666307  0.184197  0.554276  0.857182\n",
       "329  0.982911  0.834296  0.063858  0.658507  0.967162\n",
       "..        ...       ...       ...       ...       ...\n",
       "4    0.444199  0.452174  0.284133  0.192204  0.930844\n",
       "3    0.932657  0.856253  0.276943  0.550365  0.803544\n",
       "2    0.651976  0.135305  0.186230  0.522633  0.123873\n",
       "1    0.536596  0.304414  0.023738  0.476616  0.212659\n",
       "0         0.3  0.471321  0.601230  0.903279  0.527350\n",
       "\n",
       "[334 rows x 5 columns]"
      ],
      "text/html": "<div>\n<style scoped>\n    .dataframe tbody tr th:only-of-type {\n        vertical-align: middle;\n    }\n\n    .dataframe tbody tr th {\n        vertical-align: top;\n    }\n\n    .dataframe thead th {\n        text-align: right;\n    }\n</style>\n<table border=\"1\" class=\"dataframe\">\n  <thead>\n    <tr style=\"text-align: right;\">\n      <th></th>\n      <th>0</th>\n      <th>1</th>\n      <th>2</th>\n      <th>3</th>\n      <th>4</th>\n    </tr>\n  </thead>\n  <tbody>\n    <tr>\n      <th>333</th>\n      <td>0.092103</td>\n      <td>0.855859</td>\n      <td>0.962292</td>\n      <td>0.073831</td>\n      <td>0.833467</td>\n    </tr>\n    <tr>\n      <th>332</th>\n      <td>0.5773</td>\n      <td>0.216600</td>\n      <td>0.516643</td>\n      <td>0.895405</td>\n      <td>0.867340</td>\n    </tr>\n    <tr>\n      <th>331</th>\n      <td>0.852085</td>\n      <td>0.535929</td>\n      <td>0.254301</td>\n      <td>0.810494</td>\n      <td>0.422246</td>\n    </tr>\n    <tr>\n      <th>330</th>\n      <td>0.940048</td>\n      <td>0.666307</td>\n      <td>0.184197</td>\n      <td>0.554276</td>\n      <td>0.857182</td>\n    </tr>\n    <tr>\n      <th>329</th>\n      <td>0.982911</td>\n      <td>0.834296</td>\n      <td>0.063858</td>\n      <td>0.658507</td>\n      <td>0.967162</td>\n    </tr>\n    <tr>\n      <th>...</th>\n      <td>...</td>\n      <td>...</td>\n      <td>...</td>\n      <td>...</td>\n      <td>...</td>\n    </tr>\n    <tr>\n      <th>4</th>\n      <td>0.444199</td>\n      <td>0.452174</td>\n      <td>0.284133</td>\n      <td>0.192204</td>\n      <td>0.930844</td>\n    </tr>\n    <tr>\n      <th>3</th>\n      <td>0.932657</td>\n      <td>0.856253</td>\n      <td>0.276943</td>\n      <td>0.550365</td>\n      <td>0.803544</td>\n    </tr>\n    <tr>\n      <th>2</th>\n      <td>0.651976</td>\n      <td>0.135305</td>\n      <td>0.186230</td>\n      <td>0.522633</td>\n      <td>0.123873</td>\n    </tr>\n    <tr>\n      <th>1</th>\n      <td>0.536596</td>\n      <td>0.304414</td>\n      <td>0.023738</td>\n      <td>0.476616</td>\n      <td>0.212659</td>\n    </tr>\n    <tr>\n      <th>0</th>\n      <td>0.3</td>\n      <td>0.471321</td>\n      <td>0.601230</td>\n      <td>0.903279</td>\n      <td>0.527350</td>\n    </tr>\n  </tbody>\n</table>\n<p>334 rows × 5 columns</p>\n</div>"
     },
     "metadata": {},
     "execution_count": 40
    }
   ],
   "source": [
    "newdf.sort_index(axis=0,ascending=False)"
   ]
  },
  {
   "cell_type": "code",
   "execution_count": 41,
   "metadata": {},
   "outputs": [
    {
     "output_type": "execute_result",
     "data": {
      "text/plain": [
       "          0         1         2         3         4\n",
       "0       0.3  0.471321  0.601230  0.903279  0.527350\n",
       "1  0.536596  0.304414  0.023738  0.476616  0.212659\n",
       "2  0.651976  0.135305  0.186230  0.522633  0.123873\n",
       "3  0.932657  0.856253  0.276943  0.550365  0.803544\n",
       "4  0.444199  0.452174  0.284133  0.192204  0.930844"
      ],
      "text/html": "<div>\n<style scoped>\n    .dataframe tbody tr th:only-of-type {\n        vertical-align: middle;\n    }\n\n    .dataframe tbody tr th {\n        vertical-align: top;\n    }\n\n    .dataframe thead th {\n        text-align: right;\n    }\n</style>\n<table border=\"1\" class=\"dataframe\">\n  <thead>\n    <tr style=\"text-align: right;\">\n      <th></th>\n      <th>0</th>\n      <th>1</th>\n      <th>2</th>\n      <th>3</th>\n      <th>4</th>\n    </tr>\n  </thead>\n  <tbody>\n    <tr>\n      <th>0</th>\n      <td>0.3</td>\n      <td>0.471321</td>\n      <td>0.601230</td>\n      <td>0.903279</td>\n      <td>0.527350</td>\n    </tr>\n    <tr>\n      <th>1</th>\n      <td>0.536596</td>\n      <td>0.304414</td>\n      <td>0.023738</td>\n      <td>0.476616</td>\n      <td>0.212659</td>\n    </tr>\n    <tr>\n      <th>2</th>\n      <td>0.651976</td>\n      <td>0.135305</td>\n      <td>0.186230</td>\n      <td>0.522633</td>\n      <td>0.123873</td>\n    </tr>\n    <tr>\n      <th>3</th>\n      <td>0.932657</td>\n      <td>0.856253</td>\n      <td>0.276943</td>\n      <td>0.550365</td>\n      <td>0.803544</td>\n    </tr>\n    <tr>\n      <th>4</th>\n      <td>0.444199</td>\n      <td>0.452174</td>\n      <td>0.284133</td>\n      <td>0.192204</td>\n      <td>0.930844</td>\n    </tr>\n  </tbody>\n</table>\n</div>"
     },
     "metadata": {},
     "execution_count": 41
    }
   ],
   "source": [
    "newdf.head()"
   ]
  },
  {
   "cell_type": "code",
   "execution_count": 44,
   "metadata": {},
   "outputs": [
    {
     "output_type": "execute_result",
     "data": {
      "text/plain": [
       "0           0.3\n",
       "1      0.536596\n",
       "2      0.651976\n",
       "3      0.932657\n",
       "4      0.444199\n",
       "         ...   \n",
       "329    0.982911\n",
       "330    0.940048\n",
       "331    0.852085\n",
       "332      0.5773\n",
       "333    0.092103\n",
       "Name: 0, Length: 334, dtype: object"
      ]
     },
     "metadata": {},
     "execution_count": 44
    }
   ],
   "source": [
    "newdf[0]\n"
   ]
  },
  {
   "cell_type": "code",
   "execution_count": 45,
   "metadata": {},
   "outputs": [
    {
     "output_type": "execute_result",
     "data": {
      "text/plain": [
       "pandas.core.series.Series"
      ]
     },
     "metadata": {},
     "execution_count": 45
    }
   ],
   "source": [
    "type(newdf[0])"
   ]
  },
  {
   "cell_type": "code",
   "execution_count": 46,
   "metadata": {},
   "outputs": [],
   "source": [
    "newdf2=newdf"
   ]
  },
  {
   "cell_type": "code",
   "execution_count": 47,
   "metadata": {},
   "outputs": [
    {
     "output_type": "stream",
     "name": "stderr",
     "text": [
      "<ipython-input-47-5e5171ddf668>:1: SettingWithCopyWarning: \nA value is trying to be set on a copy of a slice from a DataFrame\n\nSee the caveats in the documentation: https://pandas.pydata.org/pandas-docs/stable/user_guide/indexing.html#returning-a-view-versus-a-copy\n  newdf2[0][0]=4545\n"
     ]
    }
   ],
   "source": [
    "newdf2[0][0]=4545"
   ]
  },
  {
   "cell_type": "code",
   "execution_count": 49,
   "metadata": {},
   "outputs": [
    {
     "output_type": "execute_result",
     "data": {
      "text/plain": [
       "            0         1         2         3         4\n",
       "0        4545  0.471321  0.601230  0.903279  0.527350\n",
       "1    0.536596  0.304414  0.023738  0.476616  0.212659\n",
       "2    0.651976  0.135305  0.186230  0.522633  0.123873\n",
       "3    0.932657  0.856253  0.276943  0.550365  0.803544\n",
       "4    0.444199  0.452174  0.284133  0.192204  0.930844\n",
       "..        ...       ...       ...       ...       ...\n",
       "329  0.982911  0.834296  0.063858  0.658507  0.967162\n",
       "330  0.940048  0.666307  0.184197  0.554276  0.857182\n",
       "331  0.852085  0.535929  0.254301  0.810494  0.422246\n",
       "332    0.5773  0.216600  0.516643  0.895405  0.867340\n",
       "333  0.092103  0.855859  0.962292  0.073831  0.833467\n",
       "\n",
       "[334 rows x 5 columns]"
      ],
      "text/html": "<div>\n<style scoped>\n    .dataframe tbody tr th:only-of-type {\n        vertical-align: middle;\n    }\n\n    .dataframe tbody tr th {\n        vertical-align: top;\n    }\n\n    .dataframe thead th {\n        text-align: right;\n    }\n</style>\n<table border=\"1\" class=\"dataframe\">\n  <thead>\n    <tr style=\"text-align: right;\">\n      <th></th>\n      <th>0</th>\n      <th>1</th>\n      <th>2</th>\n      <th>3</th>\n      <th>4</th>\n    </tr>\n  </thead>\n  <tbody>\n    <tr>\n      <th>0</th>\n      <td>4545</td>\n      <td>0.471321</td>\n      <td>0.601230</td>\n      <td>0.903279</td>\n      <td>0.527350</td>\n    </tr>\n    <tr>\n      <th>1</th>\n      <td>0.536596</td>\n      <td>0.304414</td>\n      <td>0.023738</td>\n      <td>0.476616</td>\n      <td>0.212659</td>\n    </tr>\n    <tr>\n      <th>2</th>\n      <td>0.651976</td>\n      <td>0.135305</td>\n      <td>0.186230</td>\n      <td>0.522633</td>\n      <td>0.123873</td>\n    </tr>\n    <tr>\n      <th>3</th>\n      <td>0.932657</td>\n      <td>0.856253</td>\n      <td>0.276943</td>\n      <td>0.550365</td>\n      <td>0.803544</td>\n    </tr>\n    <tr>\n      <th>4</th>\n      <td>0.444199</td>\n      <td>0.452174</td>\n      <td>0.284133</td>\n      <td>0.192204</td>\n      <td>0.930844</td>\n    </tr>\n    <tr>\n      <th>...</th>\n      <td>...</td>\n      <td>...</td>\n      <td>...</td>\n      <td>...</td>\n      <td>...</td>\n    </tr>\n    <tr>\n      <th>329</th>\n      <td>0.982911</td>\n      <td>0.834296</td>\n      <td>0.063858</td>\n      <td>0.658507</td>\n      <td>0.967162</td>\n    </tr>\n    <tr>\n      <th>330</th>\n      <td>0.940048</td>\n      <td>0.666307</td>\n      <td>0.184197</td>\n      <td>0.554276</td>\n      <td>0.857182</td>\n    </tr>\n    <tr>\n      <th>331</th>\n      <td>0.852085</td>\n      <td>0.535929</td>\n      <td>0.254301</td>\n      <td>0.810494</td>\n      <td>0.422246</td>\n    </tr>\n    <tr>\n      <th>332</th>\n      <td>0.5773</td>\n      <td>0.216600</td>\n      <td>0.516643</td>\n      <td>0.895405</td>\n      <td>0.867340</td>\n    </tr>\n    <tr>\n      <th>333</th>\n      <td>0.092103</td>\n      <td>0.855859</td>\n      <td>0.962292</td>\n      <td>0.073831</td>\n      <td>0.833467</td>\n    </tr>\n  </tbody>\n</table>\n<p>334 rows × 5 columns</p>\n</div>"
     },
     "metadata": {},
     "execution_count": 49
    }
   ],
   "source": [
    "newdf"
   ]
  },
  {
   "cell_type": "code",
   "execution_count": null,
   "metadata": {},
   "outputs": [],
   "source": []
  }
 ]
}