{
 "metadata": {
  "language_info": {
   "codemirror_mode": {
    "name": "ipython",
    "version": 3
   },
   "file_extension": ".py",
   "mimetype": "text/x-python",
   "name": "python",
   "nbconvert_exporter": "python",
   "pygments_lexer": "ipython3",
   "version": "3.9.1-final"
  },
  "orig_nbformat": 2,
  "kernelspec": {
   "name": "python3",
   "display_name": "Python 3.9.1 64-bit",
   "metadata": {
    "interpreter": {
     "hash": "b5843a13e7131a14c3c0e364f0390d6592a995e3082c3f83420ac4385eeb2370"
    }
   }
  }
 },
 "nbformat": 4,
 "nbformat_minor": 2,
 "cells": [
  {
   "cell_type": "code",
   "execution_count": 2,
   "metadata": {},
   "outputs": [],
   "source": [
    "import pandas as pd"
   ]
  },
  {
   "cell_type": "code",
   "execution_count": 3,
   "metadata": {},
   "outputs": [],
   "source": [
    "dict={\n",
    "    \"name\":[\"harry\",\"rohan\",\"skillf\",\"subh\"],\"marks\":[50,89,45,75],\"city\":[\"rampur\",\"kolkata\",\"delhi\",\"northpole\"]\n",
    "}"
   ]
  },
  {
   "cell_type": "code",
   "execution_count": 5,
   "metadata": {},
   "outputs": [],
   "source": [
    "df=pd.DataFrame(dict)"
   ]
  },
  {
   "cell_type": "code",
   "execution_count": 6,
   "metadata": {},
   "outputs": [
    {
     "output_type": "execute_result",
     "data": {
      "text/plain": [
       "     name  marks       city\n",
       "0   harry     50     rampur\n",
       "1   rohan     89    kolkata\n",
       "2  skillf     45      delhi\n",
       "3    subh     75  northpole"
      ],
      "text/html": "<div>\n<style scoped>\n    .dataframe tbody tr th:only-of-type {\n        vertical-align: middle;\n    }\n\n    .dataframe tbody tr th {\n        vertical-align: top;\n    }\n\n    .dataframe thead th {\n        text-align: right;\n    }\n</style>\n<table border=\"1\" class=\"dataframe\">\n  <thead>\n    <tr style=\"text-align: right;\">\n      <th></th>\n      <th>name</th>\n      <th>marks</th>\n      <th>city</th>\n    </tr>\n  </thead>\n  <tbody>\n    <tr>\n      <th>0</th>\n      <td>harry</td>\n      <td>50</td>\n      <td>rampur</td>\n    </tr>\n    <tr>\n      <th>1</th>\n      <td>rohan</td>\n      <td>89</td>\n      <td>kolkata</td>\n    </tr>\n    <tr>\n      <th>2</th>\n      <td>skillf</td>\n      <td>45</td>\n      <td>delhi</td>\n    </tr>\n    <tr>\n      <th>3</th>\n      <td>subh</td>\n      <td>75</td>\n      <td>northpole</td>\n    </tr>\n  </tbody>\n</table>\n</div>"
     },
     "metadata": {},
     "execution_count": 6
    }
   ],
   "source": [
    "df"
   ]
  },
  {
   "cell_type": "code",
   "execution_count": 7,
   "metadata": {},
   "outputs": [],
   "source": [
    "df.to_csv(\"friends.csv\")"
   ]
  },
  {
   "cell_type": "code",
   "execution_count": 8,
   "metadata": {},
   "outputs": [],
   "source": [
    "df.to_csv(\"friends_no_index.csv\",index=False)"
   ]
  },
  {
   "cell_type": "code",
   "execution_count": 9,
   "metadata": {},
   "outputs": [
    {
     "output_type": "execute_result",
     "data": {
      "text/plain": [
       "    name  marks     city\n",
       "0  harry     50   rampur\n",
       "1  rohan     89  kolkata"
      ],
      "text/html": "<div>\n<style scoped>\n    .dataframe tbody tr th:only-of-type {\n        vertical-align: middle;\n    }\n\n    .dataframe tbody tr th {\n        vertical-align: top;\n    }\n\n    .dataframe thead th {\n        text-align: right;\n    }\n</style>\n<table border=\"1\" class=\"dataframe\">\n  <thead>\n    <tr style=\"text-align: right;\">\n      <th></th>\n      <th>name</th>\n      <th>marks</th>\n      <th>city</th>\n    </tr>\n  </thead>\n  <tbody>\n    <tr>\n      <th>0</th>\n      <td>harry</td>\n      <td>50</td>\n      <td>rampur</td>\n    </tr>\n    <tr>\n      <th>1</th>\n      <td>rohan</td>\n      <td>89</td>\n      <td>kolkata</td>\n    </tr>\n  </tbody>\n</table>\n</div>"
     },
     "metadata": {},
     "execution_count": 9
    }
   ],
   "source": [
    "df.head(2)"
   ]
  },
  {
   "cell_type": "code",
   "execution_count": 10,
   "metadata": {},
   "outputs": [
    {
     "output_type": "execute_result",
     "data": {
      "text/plain": [
       "     name  marks       city\n",
       "2  skillf     45      delhi\n",
       "3    subh     75  northpole"
      ],
      "text/html": "<div>\n<style scoped>\n    .dataframe tbody tr th:only-of-type {\n        vertical-align: middle;\n    }\n\n    .dataframe tbody tr th {\n        vertical-align: top;\n    }\n\n    .dataframe thead th {\n        text-align: right;\n    }\n</style>\n<table border=\"1\" class=\"dataframe\">\n  <thead>\n    <tr style=\"text-align: right;\">\n      <th></th>\n      <th>name</th>\n      <th>marks</th>\n      <th>city</th>\n    </tr>\n  </thead>\n  <tbody>\n    <tr>\n      <th>2</th>\n      <td>skillf</td>\n      <td>45</td>\n      <td>delhi</td>\n    </tr>\n    <tr>\n      <th>3</th>\n      <td>subh</td>\n      <td>75</td>\n      <td>northpole</td>\n    </tr>\n  </tbody>\n</table>\n</div>"
     },
     "metadata": {},
     "execution_count": 10
    }
   ],
   "source": [
    "df.tail(2)"
   ]
  },
  {
   "cell_type": "code",
   "execution_count": 12,
   "metadata": {},
   "outputs": [
    {
     "output_type": "execute_result",
     "data": {
      "text/plain": [
       "           marks\n",
       "count   4.000000\n",
       "mean   64.750000\n",
       "std    20.822664\n",
       "min    45.000000\n",
       "25%    48.750000\n",
       "50%    62.500000\n",
       "75%    78.500000\n",
       "max    89.000000"
      ],
      "text/html": "<div>\n<style scoped>\n    .dataframe tbody tr th:only-of-type {\n        vertical-align: middle;\n    }\n\n    .dataframe tbody tr th {\n        vertical-align: top;\n    }\n\n    .dataframe thead th {\n        text-align: right;\n    }\n</style>\n<table border=\"1\" class=\"dataframe\">\n  <thead>\n    <tr style=\"text-align: right;\">\n      <th></th>\n      <th>marks</th>\n    </tr>\n  </thead>\n  <tbody>\n    <tr>\n      <th>count</th>\n      <td>4.000000</td>\n    </tr>\n    <tr>\n      <th>mean</th>\n      <td>64.750000</td>\n    </tr>\n    <tr>\n      <th>std</th>\n      <td>20.822664</td>\n    </tr>\n    <tr>\n      <th>min</th>\n      <td>45.000000</td>\n    </tr>\n    <tr>\n      <th>25%</th>\n      <td>48.750000</td>\n    </tr>\n    <tr>\n      <th>50%</th>\n      <td>62.500000</td>\n    </tr>\n    <tr>\n      <th>75%</th>\n      <td>78.500000</td>\n    </tr>\n    <tr>\n      <th>max</th>\n      <td>89.000000</td>\n    </tr>\n  </tbody>\n</table>\n</div>"
     },
     "metadata": {},
     "execution_count": 12
    }
   ],
   "source": [
    "df.describe()"
   ]
  },
  {
   "cell_type": "code",
   "execution_count": 25,
   "metadata": {},
   "outputs": [],
   "source": [
    "#Read csv\n",
    "\n",
    "csvread=pd.read_csv(\"train.csv\")"
   ]
  },
  {
   "cell_type": "code",
   "execution_count": 28,
   "metadata": {},
   "outputs": [
    {
     "output_type": "execute_result",
     "data": {
      "text/plain": [
       "   TrainNo  speed          city\n",
       "0    57655     90         patna\n",
       "1    79878     70         delhi\n",
       "2    74988     54        raipur\n",
       "3    12312     87       jodhpur\n",
       "4    52454     40        punjab\n",
       "5    25143     65  bangaladfesh"
      ],
      "text/html": "<div>\n<style scoped>\n    .dataframe tbody tr th:only-of-type {\n        vertical-align: middle;\n    }\n\n    .dataframe tbody tr th {\n        vertical-align: top;\n    }\n\n    .dataframe thead th {\n        text-align: right;\n    }\n</style>\n<table border=\"1\" class=\"dataframe\">\n  <thead>\n    <tr style=\"text-align: right;\">\n      <th></th>\n      <th>TrainNo</th>\n      <th>speed</th>\n      <th>city</th>\n    </tr>\n  </thead>\n  <tbody>\n    <tr>\n      <th>0</th>\n      <td>57655</td>\n      <td>90</td>\n      <td>patna</td>\n    </tr>\n    <tr>\n      <th>1</th>\n      <td>79878</td>\n      <td>70</td>\n      <td>delhi</td>\n    </tr>\n    <tr>\n      <th>2</th>\n      <td>74988</td>\n      <td>54</td>\n      <td>raipur</td>\n    </tr>\n    <tr>\n      <th>3</th>\n      <td>12312</td>\n      <td>87</td>\n      <td>jodhpur</td>\n    </tr>\n    <tr>\n      <th>4</th>\n      <td>52454</td>\n      <td>40</td>\n      <td>punjab</td>\n    </tr>\n    <tr>\n      <th>5</th>\n      <td>25143</td>\n      <td>65</td>\n      <td>bangaladfesh</td>\n    </tr>\n  </tbody>\n</table>\n</div>"
     },
     "metadata": {},
     "execution_count": 28
    }
   ],
   "source": [
    "csvread"
   ]
  },
  {
   "cell_type": "code",
   "execution_count": 27,
   "metadata": {},
   "outputs": [
    {
     "output_type": "stream",
     "name": "stderr",
     "text": [
      "<ipython-input-27-f12af54989f5>:1: SettingWithCopyWarning: \nA value is trying to be set on a copy of a slice from a DataFrame\n\nSee the caveats in the documentation: https://pandas.pydata.org/pandas-docs/stable/user_guide/indexing.html#returning-a-view-versus-a-copy\n  csvread[\"speed\"][0]=90\n"
     ]
    }
   ],
   "source": [
    "csvread[\"speed\"][0]=90"
   ]
  },
  {
   "cell_type": "code",
   "execution_count": 29,
   "metadata": {},
   "outputs": [],
   "source": [
    "csvread.to_csv('train.csv')"
   ]
  },
  {
   "cell_type": "code",
   "execution_count": 33,
   "metadata": {},
   "outputs": [],
   "source": [
    "csvread.index=['first','second','third','fourth','fifth','sixth']"
   ]
  },
  {
   "cell_type": "code",
   "execution_count": 34,
   "metadata": {},
   "outputs": [
    {
     "output_type": "execute_result",
     "data": {
      "text/plain": [
       "        TrainNo  speed          city\n",
       "first     57655     90         patna\n",
       "second    79878     70         delhi\n",
       "third     74988     54        raipur\n",
       "fourth    12312     87       jodhpur\n",
       "fifth     52454     40        punjab\n",
       "sixth     25143     65  bangaladfesh"
      ],
      "text/html": "<div>\n<style scoped>\n    .dataframe tbody tr th:only-of-type {\n        vertical-align: middle;\n    }\n\n    .dataframe tbody tr th {\n        vertical-align: top;\n    }\n\n    .dataframe thead th {\n        text-align: right;\n    }\n</style>\n<table border=\"1\" class=\"dataframe\">\n  <thead>\n    <tr style=\"text-align: right;\">\n      <th></th>\n      <th>TrainNo</th>\n      <th>speed</th>\n      <th>city</th>\n    </tr>\n  </thead>\n  <tbody>\n    <tr>\n      <th>first</th>\n      <td>57655</td>\n      <td>90</td>\n      <td>patna</td>\n    </tr>\n    <tr>\n      <th>second</th>\n      <td>79878</td>\n      <td>70</td>\n      <td>delhi</td>\n    </tr>\n    <tr>\n      <th>third</th>\n      <td>74988</td>\n      <td>54</td>\n      <td>raipur</td>\n    </tr>\n    <tr>\n      <th>fourth</th>\n      <td>12312</td>\n      <td>87</td>\n      <td>jodhpur</td>\n    </tr>\n    <tr>\n      <th>fifth</th>\n      <td>52454</td>\n      <td>40</td>\n      <td>punjab</td>\n    </tr>\n    <tr>\n      <th>sixth</th>\n      <td>25143</td>\n      <td>65</td>\n      <td>bangaladfesh</td>\n    </tr>\n  </tbody>\n</table>\n</div>"
     },
     "metadata": {},
     "execution_count": 34
    }
   ],
   "source": [
    "csvread"
   ]
  },
  {
   "cell_type": "code",
   "execution_count": null,
   "metadata": {},
   "outputs": [],
   "source": []
  }
 ]
}